{
 "metadata": {
  "language_info": {
   "codemirror_mode": {
    "name": "ipython",
    "version": 3
   },
   "file_extension": ".py",
   "mimetype": "text/x-python",
   "name": "python",
   "nbconvert_exporter": "python",
   "pygments_lexer": "ipython3",
   "version": "3.8.8-final"
  },
  "orig_nbformat": 2,
  "kernelspec": {
   "name": "python3",
   "display_name": "Python 3.8.8 64-bit",
   "metadata": {
    "interpreter": {
     "hash": "4cd7ab41f5fca4b9b44701077e38c5ffd31fe66a6cab21e0214b68d958d0e462"
    }
   }
  }
 },
 "nbformat": 4,
 "nbformat_minor": 2,
 "cells": [
  {
   "cell_type": "code",
   "execution_count": 1,
   "metadata": {},
   "outputs": [],
   "source": [
    "import pandas as pd"
   ]
  },
  {
   "cell_type": "code",
   "execution_count": 2,
   "metadata": {},
   "outputs": [
    {
     "output_type": "execute_result",
     "data": {
      "text/plain": [
       "    Type Currency Average\n",
       "0      3    PESOS    1,05\n",
       "1      8    PESOS    1,18\n",
       "2      4    DOLAR    1,77\n",
       "3      8    DOLAR    0,91\n",
       "4      2    PESOS    1,00\n",
       "5      6    DOLAR    1,36\n",
       "6      7    PESOS    1,24\n",
       "7      3    DOLAR    0,98\n",
       "8      1    PESOS    0,33\n",
       "9      6    PESOS    1,76\n",
       "10     5    DOLAR    2,47\n",
       "11     4    PESOS    2,46\n",
       "12     2    DOLAR    0,69\n",
       "13     5    PESOS    1,77\n",
       "14     1    DOLAR    0,41\n",
       "15     7    DOLAR    1,31"
      ],
      "text/html": "<div>\n<style scoped>\n    .dataframe tbody tr th:only-of-type {\n        vertical-align: middle;\n    }\n\n    .dataframe tbody tr th {\n        vertical-align: top;\n    }\n\n    .dataframe thead th {\n        text-align: right;\n    }\n</style>\n<table border=\"1\" class=\"dataframe\">\n  <thead>\n    <tr style=\"text-align: right;\">\n      <th></th>\n      <th>Type</th>\n      <th>Currency</th>\n      <th>Average</th>\n    </tr>\n  </thead>\n  <tbody>\n    <tr>\n      <th>0</th>\n      <td>3</td>\n      <td>PESOS</td>\n      <td>1,05</td>\n    </tr>\n    <tr>\n      <th>1</th>\n      <td>8</td>\n      <td>PESOS</td>\n      <td>1,18</td>\n    </tr>\n    <tr>\n      <th>2</th>\n      <td>4</td>\n      <td>DOLAR</td>\n      <td>1,77</td>\n    </tr>\n    <tr>\n      <th>3</th>\n      <td>8</td>\n      <td>DOLAR</td>\n      <td>0,91</td>\n    </tr>\n    <tr>\n      <th>4</th>\n      <td>2</td>\n      <td>PESOS</td>\n      <td>1,00</td>\n    </tr>\n    <tr>\n      <th>5</th>\n      <td>6</td>\n      <td>DOLAR</td>\n      <td>1,36</td>\n    </tr>\n    <tr>\n      <th>6</th>\n      <td>7</td>\n      <td>PESOS</td>\n      <td>1,24</td>\n    </tr>\n    <tr>\n      <th>7</th>\n      <td>3</td>\n      <td>DOLAR</td>\n      <td>0,98</td>\n    </tr>\n    <tr>\n      <th>8</th>\n      <td>1</td>\n      <td>PESOS</td>\n      <td>0,33</td>\n    </tr>\n    <tr>\n      <th>9</th>\n      <td>6</td>\n      <td>PESOS</td>\n      <td>1,76</td>\n    </tr>\n    <tr>\n      <th>10</th>\n      <td>5</td>\n      <td>DOLAR</td>\n      <td>2,47</td>\n    </tr>\n    <tr>\n      <th>11</th>\n      <td>4</td>\n      <td>PESOS</td>\n      <td>2,46</td>\n    </tr>\n    <tr>\n      <th>12</th>\n      <td>2</td>\n      <td>DOLAR</td>\n      <td>0,69</td>\n    </tr>\n    <tr>\n      <th>13</th>\n      <td>5</td>\n      <td>PESOS</td>\n      <td>1,77</td>\n    </tr>\n    <tr>\n      <th>14</th>\n      <td>1</td>\n      <td>DOLAR</td>\n      <td>0,41</td>\n    </tr>\n    <tr>\n      <th>15</th>\n      <td>7</td>\n      <td>DOLAR</td>\n      <td>1,31</td>\n    </tr>\n  </tbody>\n</table>\n</div>"
     },
     "metadata": {},
     "execution_count": 2
    }
   ],
   "source": [
    "# See: https://pandas.pydata.org/pandas-docs/stable/reference/api/pandas.read_excel.html\n",
    "\n",
    "# Manually supplying headers because of multi-level headers in oroginal document\n",
    "headers = [\"Type\", \"Currency\", \"Average\"]\n",
    "\n",
    "data = pd.read_excel('../data/raw/cost/costosffmm20210212.xlsx', sheet_name=1, header=None, names=headers, skiprows=4)\n",
    "\n",
    "data"
   ]
  },
  {
   "cell_type": "code",
   "execution_count": 3,
   "metadata": {},
   "outputs": [
    {
     "output_type": "execute_result",
     "data": {
      "text/plain": [
       "    Type Currency  Average\n",
       "0      3    PESOS   0.0105\n",
       "1      8    PESOS   0.0118\n",
       "2      4    DOLAR   0.0177\n",
       "3      8    DOLAR   0.0091\n",
       "4      2    PESOS   0.0100\n",
       "5      6    DOLAR   0.0136\n",
       "6      7    PESOS   0.0124\n",
       "7      3    DOLAR   0.0098\n",
       "8      1    PESOS   0.0033\n",
       "9      6    PESOS   0.0176\n",
       "10     5    DOLAR   0.0247\n",
       "11     4    PESOS   0.0246\n",
       "12     2    DOLAR   0.0069\n",
       "13     5    PESOS   0.0177\n",
       "14     1    DOLAR   0.0041\n",
       "15     7    DOLAR   0.0131"
      ],
      "text/html": "<div>\n<style scoped>\n    .dataframe tbody tr th:only-of-type {\n        vertical-align: middle;\n    }\n\n    .dataframe tbody tr th {\n        vertical-align: top;\n    }\n\n    .dataframe thead th {\n        text-align: right;\n    }\n</style>\n<table border=\"1\" class=\"dataframe\">\n  <thead>\n    <tr style=\"text-align: right;\">\n      <th></th>\n      <th>Type</th>\n      <th>Currency</th>\n      <th>Average</th>\n    </tr>\n  </thead>\n  <tbody>\n    <tr>\n      <th>0</th>\n      <td>3</td>\n      <td>PESOS</td>\n      <td>0.0105</td>\n    </tr>\n    <tr>\n      <th>1</th>\n      <td>8</td>\n      <td>PESOS</td>\n      <td>0.0118</td>\n    </tr>\n    <tr>\n      <th>2</th>\n      <td>4</td>\n      <td>DOLAR</td>\n      <td>0.0177</td>\n    </tr>\n    <tr>\n      <th>3</th>\n      <td>8</td>\n      <td>DOLAR</td>\n      <td>0.0091</td>\n    </tr>\n    <tr>\n      <th>4</th>\n      <td>2</td>\n      <td>PESOS</td>\n      <td>0.0100</td>\n    </tr>\n    <tr>\n      <th>5</th>\n      <td>6</td>\n      <td>DOLAR</td>\n      <td>0.0136</td>\n    </tr>\n    <tr>\n      <th>6</th>\n      <td>7</td>\n      <td>PESOS</td>\n      <td>0.0124</td>\n    </tr>\n    <tr>\n      <th>7</th>\n      <td>3</td>\n      <td>DOLAR</td>\n      <td>0.0098</td>\n    </tr>\n    <tr>\n      <th>8</th>\n      <td>1</td>\n      <td>PESOS</td>\n      <td>0.0033</td>\n    </tr>\n    <tr>\n      <th>9</th>\n      <td>6</td>\n      <td>PESOS</td>\n      <td>0.0176</td>\n    </tr>\n    <tr>\n      <th>10</th>\n      <td>5</td>\n      <td>DOLAR</td>\n      <td>0.0247</td>\n    </tr>\n    <tr>\n      <th>11</th>\n      <td>4</td>\n      <td>PESOS</td>\n      <td>0.0246</td>\n    </tr>\n    <tr>\n      <th>12</th>\n      <td>2</td>\n      <td>DOLAR</td>\n      <td>0.0069</td>\n    </tr>\n    <tr>\n      <th>13</th>\n      <td>5</td>\n      <td>PESOS</td>\n      <td>0.0177</td>\n    </tr>\n    <tr>\n      <th>14</th>\n      <td>1</td>\n      <td>DOLAR</td>\n      <td>0.0041</td>\n    </tr>\n    <tr>\n      <th>15</th>\n      <td>7</td>\n      <td>DOLAR</td>\n      <td>0.0131</td>\n    </tr>\n  </tbody>\n</table>\n</div>"
     },
     "metadata": {},
     "execution_count": 3
    }
   ],
   "source": [
    "data['Average'] = data['Average'].str.replace(',', '.').astype(float) / 100\n",
    "\n",
    "data"
   ]
  },
  {
   "cell_type": "code",
   "execution_count": 4,
   "metadata": {},
   "outputs": [
    {
     "output_type": "execute_result",
     "data": {
      "text/plain": [
       "Type          int64\n",
       "Currency     object\n",
       "Average     float64\n",
       "dtype: object"
      ]
     },
     "metadata": {},
     "execution_count": 4
    }
   ],
   "source": [
    "data.dtypes"
   ]
  },
  {
   "cell_type": "code",
   "execution_count": 5,
   "metadata": {},
   "outputs": [],
   "source": [
    "data.to_parquet('../data/mutual_fund_cost_averages_by_type.parq', compression='gzip')"
   ]
  }
 ]
}