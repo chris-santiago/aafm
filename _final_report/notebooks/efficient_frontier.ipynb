{
 "cells": [
  {
   "cell_type": "code",
   "execution_count": 1,
   "id": "processed-extent",
   "metadata": {},
   "outputs": [],
   "source": [
    "import pandas as pd\n",
    "import numpy as np\n",
    "import matplotlib.pyplot as plt"
   ]
  },
  {
   "cell_type": "code",
   "execution_count": 2,
   "id": "intended-concern",
   "metadata": {},
   "outputs": [],
   "source": [
    "data = pd.read_csv('../data/FundDataWithMonthlyReturnsTSNEScoredScaledClustered.csv')"
   ]
  },
  {
   "cell_type": "code",
   "execution_count": 3,
   "id": "cooperative-firewall",
   "metadata": {},
   "outputs": [
    {
     "data": {
      "text/html": [
       "<div>\n",
       "<style scoped>\n",
       "    .dataframe tbody tr th:only-of-type {\n",
       "        vertical-align: middle;\n",
       "    }\n",
       "\n",
       "    .dataframe tbody tr th {\n",
       "        vertical-align: top;\n",
       "    }\n",
       "\n",
       "    .dataframe thead th {\n",
       "        text-align: right;\n",
       "    }\n",
       "</style>\n",
       "<table border=\"1\" class=\"dataframe\">\n",
       "  <thead>\n",
       "    <tr style=\"text-align: right;\">\n",
       "      <th>cluster</th>\n",
       "      <th>0</th>\n",
       "      <th>1</th>\n",
       "      <th>2</th>\n",
       "      <th>3</th>\n",
       "      <th>4</th>\n",
       "      <th>5</th>\n",
       "      <th>6</th>\n",
       "      <th>7</th>\n",
       "      <th>8</th>\n",
       "      <th>9</th>\n",
       "    </tr>\n",
       "    <tr>\n",
       "      <th>cluster</th>\n",
       "      <th></th>\n",
       "      <th></th>\n",
       "      <th></th>\n",
       "      <th></th>\n",
       "      <th></th>\n",
       "      <th></th>\n",
       "      <th></th>\n",
       "      <th></th>\n",
       "      <th></th>\n",
       "      <th></th>\n",
       "    </tr>\n",
       "  </thead>\n",
       "  <tbody>\n",
       "    <tr>\n",
       "      <th>0</th>\n",
       "      <td>0.780662</td>\n",
       "      <td>0.588936</td>\n",
       "      <td>1.064913</td>\n",
       "      <td>1.929828</td>\n",
       "      <td>3.124154</td>\n",
       "      <td>0.043513</td>\n",
       "      <td>2.001220</td>\n",
       "      <td>0.775171</td>\n",
       "      <td>0.351817</td>\n",
       "      <td>0.943552</td>\n",
       "    </tr>\n",
       "    <tr>\n",
       "      <th>1</th>\n",
       "      <td>0.588936</td>\n",
       "      <td>19.300996</td>\n",
       "      <td>4.344940</td>\n",
       "      <td>5.174809</td>\n",
       "      <td>14.466742</td>\n",
       "      <td>0.019838</td>\n",
       "      <td>10.180684</td>\n",
       "      <td>5.202369</td>\n",
       "      <td>13.766962</td>\n",
       "      <td>12.431424</td>\n",
       "    </tr>\n",
       "    <tr>\n",
       "      <th>2</th>\n",
       "      <td>1.064913</td>\n",
       "      <td>4.344940</td>\n",
       "      <td>6.020586</td>\n",
       "      <td>6.517531</td>\n",
       "      <td>4.286898</td>\n",
       "      <td>0.033582</td>\n",
       "      <td>14.010491</td>\n",
       "      <td>2.541193</td>\n",
       "      <td>5.108188</td>\n",
       "      <td>5.434112</td>\n",
       "    </tr>\n",
       "    <tr>\n",
       "      <th>3</th>\n",
       "      <td>1.929828</td>\n",
       "      <td>5.174809</td>\n",
       "      <td>6.517531</td>\n",
       "      <td>26.820200</td>\n",
       "      <td>17.060786</td>\n",
       "      <td>0.058555</td>\n",
       "      <td>22.160668</td>\n",
       "      <td>4.581684</td>\n",
       "      <td>7.850423</td>\n",
       "      <td>9.682319</td>\n",
       "    </tr>\n",
       "    <tr>\n",
       "      <th>4</th>\n",
       "      <td>3.124154</td>\n",
       "      <td>14.466742</td>\n",
       "      <td>4.286898</td>\n",
       "      <td>17.060786</td>\n",
       "      <td>89.825057</td>\n",
       "      <td>0.142471</td>\n",
       "      <td>20.224777</td>\n",
       "      <td>5.889246</td>\n",
       "      <td>9.249828</td>\n",
       "      <td>13.047175</td>\n",
       "    </tr>\n",
       "    <tr>\n",
       "      <th>5</th>\n",
       "      <td>0.043513</td>\n",
       "      <td>0.019838</td>\n",
       "      <td>0.033582</td>\n",
       "      <td>0.058555</td>\n",
       "      <td>0.142471</td>\n",
       "      <td>0.007512</td>\n",
       "      <td>0.053297</td>\n",
       "      <td>0.034121</td>\n",
       "      <td>-0.035618</td>\n",
       "      <td>0.025150</td>\n",
       "    </tr>\n",
       "    <tr>\n",
       "      <th>6</th>\n",
       "      <td>2.001220</td>\n",
       "      <td>10.180684</td>\n",
       "      <td>14.010491</td>\n",
       "      <td>22.160668</td>\n",
       "      <td>20.224777</td>\n",
       "      <td>0.053297</td>\n",
       "      <td>51.345699</td>\n",
       "      <td>6.184698</td>\n",
       "      <td>12.524889</td>\n",
       "      <td>14.633637</td>\n",
       "    </tr>\n",
       "    <tr>\n",
       "      <th>7</th>\n",
       "      <td>0.775171</td>\n",
       "      <td>5.202369</td>\n",
       "      <td>2.541193</td>\n",
       "      <td>4.581684</td>\n",
       "      <td>5.889246</td>\n",
       "      <td>0.034121</td>\n",
       "      <td>6.184698</td>\n",
       "      <td>2.157285</td>\n",
       "      <td>4.360243</td>\n",
       "      <td>4.371465</td>\n",
       "    </tr>\n",
       "    <tr>\n",
       "      <th>8</th>\n",
       "      <td>0.351817</td>\n",
       "      <td>13.766962</td>\n",
       "      <td>5.108188</td>\n",
       "      <td>7.850423</td>\n",
       "      <td>9.249828</td>\n",
       "      <td>-0.035618</td>\n",
       "      <td>12.524889</td>\n",
       "      <td>4.360243</td>\n",
       "      <td>16.141834</td>\n",
       "      <td>10.812989</td>\n",
       "    </tr>\n",
       "    <tr>\n",
       "      <th>9</th>\n",
       "      <td>0.943552</td>\n",
       "      <td>12.431424</td>\n",
       "      <td>5.434112</td>\n",
       "      <td>9.682319</td>\n",
       "      <td>13.047175</td>\n",
       "      <td>0.025150</td>\n",
       "      <td>14.633637</td>\n",
       "      <td>4.371465</td>\n",
       "      <td>10.812989</td>\n",
       "      <td>10.282802</td>\n",
       "    </tr>\n",
       "  </tbody>\n",
       "</table>\n",
       "</div>"
      ],
      "text/plain": [
       "cluster         0          1          2          3          4         5  \\\n",
       "cluster                                                                   \n",
       "0        0.780662   0.588936   1.064913   1.929828   3.124154  0.043513   \n",
       "1        0.588936  19.300996   4.344940   5.174809  14.466742  0.019838   \n",
       "2        1.064913   4.344940   6.020586   6.517531   4.286898  0.033582   \n",
       "3        1.929828   5.174809   6.517531  26.820200  17.060786  0.058555   \n",
       "4        3.124154  14.466742   4.286898  17.060786  89.825057  0.142471   \n",
       "5        0.043513   0.019838   0.033582   0.058555   0.142471  0.007512   \n",
       "6        2.001220  10.180684  14.010491  22.160668  20.224777  0.053297   \n",
       "7        0.775171   5.202369   2.541193   4.581684   5.889246  0.034121   \n",
       "8        0.351817  13.766962   5.108188   7.850423   9.249828 -0.035618   \n",
       "9        0.943552  12.431424   5.434112   9.682319  13.047175  0.025150   \n",
       "\n",
       "cluster          6         7          8          9  \n",
       "cluster                                             \n",
       "0         2.001220  0.775171   0.351817   0.943552  \n",
       "1        10.180684  5.202369  13.766962  12.431424  \n",
       "2        14.010491  2.541193   5.108188   5.434112  \n",
       "3        22.160668  4.581684   7.850423   9.682319  \n",
       "4        20.224777  5.889246   9.249828  13.047175  \n",
       "5         0.053297  0.034121  -0.035618   0.025150  \n",
       "6        51.345699  6.184698  12.524889  14.633637  \n",
       "7         6.184698  2.157285   4.360243   4.371465  \n",
       "8        12.524889  4.360243  16.141834  10.812989  \n",
       "9        14.633637  4.371465  10.812989  10.282802  "
      ]
     },
     "execution_count": 3,
     "metadata": {},
     "output_type": "execute_result"
    }
   ],
   "source": [
    "cluster_cov = data.groupby('cluster').mean() * 100  # data is in pct\n",
    "cluster_cov = cluster_cov.loc[:, '2015-02-28':'2021-01-31'].T.cov()\n",
    "cluster_cov"
   ]
  },
  {
   "cell_type": "code",
   "execution_count": 4,
   "id": "heavy-fitting",
   "metadata": {},
   "outputs": [],
   "source": [
    "expected_ann_return = data.groupby('cluster')[['ann_return']].mean()\n",
    "expected_ann_volatility = data.groupby('cluster')[['ann_stdev']].mean()"
   ]
  },
  {
   "cell_type": "code",
   "execution_count": 8,
   "id": "apparent-donor",
   "metadata": {},
   "outputs": [],
   "source": [
    "n = int(1e5)\n",
    "weights = np.array(np.random.random((n, len(expected_ann_return))))\n",
    "weights = weights/weights.sum(1).reshape(-1, 1)\n",
    "returns = np.sum(weights * expected_ann_return.values.ravel(), axis=1)"
   ]
  },
  {
   "cell_type": "raw",
   "id": "operating-ukraine",
   "metadata": {},
   "source": [
    "returns = np.sum(weights * expected_ann_return.values.ravel(), axis=1)\n",
    "volatilities = np.sqrt(np.dot(weights.T, np.dot(weights, cluster_cov.values * 12)))\n",
    "sharpe = returns/volatilities"
   ]
  },
  {
   "cell_type": "code",
   "execution_count": 10,
   "id": "related-nutrition",
   "metadata": {},
   "outputs": [],
   "source": [
    "volatilities = np.zeros(n)\n",
    "for i in range(n):\n",
    "    volatilities[i] += np.sqrt(np.dot(weights[i, :].T, np.dot(cluster_cov * 12, weights[i, :])))"
   ]
  },
  {
   "cell_type": "code",
   "execution_count": 15,
   "id": "imperial-platinum",
   "metadata": {},
   "outputs": [],
   "source": [
    "sharpes = returns / volatilities"
   ]
  },
  {
   "cell_type": "raw",
   "id": "fatal-complexity",
   "metadata": {},
   "source": [
    "#create 6000 portfolios so we can have a sample of almost all portfolio condition due to volatility and returns.\n",
    "np.random.seed(42)\n",
    "num_ports = 10000\n",
    "all_weights = np.zeros((num_ports, cluster_cov.shape[1]))\n",
    "ret_arr = np.zeros(num_ports)\n",
    "vol_arr = np.zeros(num_ports)\n",
    "sharpe_arr = np.zeros(num_ports)\n",
    "\n",
    "for x in range(num_ports):\n",
    "    # Weights\n",
    "    weights = np.array(np.random.random(len(expected_ann_return)))\n",
    "    weights = weights/np.sum(weights)\n",
    "    \n",
    "    # Save weights\n",
    "    all_weights[x,:] = weights\n",
    "    \n",
    "    # Expected return\n",
    "    ret_arr[x] = np.sum(weights * expected_ann_return.values.ravel())\n",
    "    \n",
    "    # Expected volatility\n",
    "    vol_arr[x] = np.sqrt(np.dot(weights.T, np.dot(cluster_cov * 12, weights)))\n",
    "    \n",
    "    # Sharpe Ratio\n",
    "    sharpe_arr[x] = ret_arr[x]/vol_arr[x]"
   ]
  },
  {
   "cell_type": "code",
   "execution_count": 16,
   "id": "eastern-caribbean",
   "metadata": {},
   "outputs": [
    {
     "name": "stdout",
     "output_type": "stream",
     "text": [
      "Max sharpe ratio in the array: 0.7289977220279922\n",
      "Location in the array: 36619\n"
     ]
    }
   ],
   "source": [
    "#the optimal portfolio is located in this point.\n",
    "print('Max sharpe ratio in the array: {}'.format(sharpes.max()))\n",
    "print('Location in the array: {}'.format(sharpes.argmax()))"
   ]
  },
  {
   "cell_type": "code",
   "execution_count": 24,
   "id": "exempt-honduras",
   "metadata": {},
   "outputs": [
    {
     "name": "stdout",
     "output_type": "stream",
     "text": [
      "[1.93801409e+01 1.54632641e+01 1.67258790e+01 2.41564099e+00\n",
      " 1.26663945e-02 2.57531088e+01 1.93704180e+00 1.58467061e+01\n",
      " 9.83809533e-01 1.48174231e+00]\n"
     ]
    }
   ],
   "source": [
    "#the weight of the optimal portfolio is:\n",
    "print(weights[sharpes.argmax(),:] * 100)"
   ]
  },
  {
   "cell_type": "code",
   "execution_count": 26,
   "id": "certain-message",
   "metadata": {},
   "outputs": [],
   "source": [
    "max_sr_ret=returns[sharpes.argmax()]\n",
    "max_sr_vol=volatilities[sharpes.argmax()]"
   ]
  },
  {
   "cell_type": "code",
   "execution_count": 61,
   "id": "valuable-twenty",
   "metadata": {},
   "outputs": [
    {
     "data": {
      "image/png": "[encoded data removed]",
      "text/plain": [
       "<Figure size 864x576 with 2 Axes>"
      ]
     },
     "metadata": {
      "needs_background": "light"
     },
     "output_type": "display_data"
    }
   ],
   "source": [
    "mask = sharpes > .5\n",
    "\n",
    "plt.figure(figsize=(12,8))\n",
    "plt.scatter(volatilities[mask], returns[mask], c=sharpes[mask], cmap='viridis')\n",
    "plt.colorbar(label='Sharpe Ratio')\n",
    "plt.xlabel('Volatility')\n",
    "plt.ylabel('Return')\n",
    "# plt.scatter(max_sr_vol, max_sr_ret,c='red', s=50) # red dot\n",
    "plt.ylim(0, 7)\n",
    "plt.xlim(2, 12)\n",
    "plt.show()"
   ]
  },
  {
   "cell_type": "code",
   "execution_count": null,
   "id": "suspended-prague",
   "metadata": {},
   "outputs": [],
   "source": []
  }
 ],
 "metadata": {
  "kernelspec": {
   "display_name": "Python 3",
   "language": "python",
   "name": "python3"
  },
  "language_info": {
   "codemirror_mode": {
    "name": "ipython",
    "version": 3
   },
   "file_extension": ".py",
   "mimetype": "text/x-python",
   "name": "python",
   "nbconvert_exporter": "python",
   "pygments_lexer": "ipython3",
   "version": "3.8.8"
  }
 },
 "nbformat": 4,
 "nbformat_minor": 5
}
