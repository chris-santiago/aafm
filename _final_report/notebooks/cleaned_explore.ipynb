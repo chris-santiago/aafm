{
 "cells": [
  {
   "cell_type": "markdown",
   "id": "noticed-hampshire",
   "metadata": {},
   "source": [
    "# Exploring the cleaned dataset"
   ]
  },
  {
   "cell_type": "code",
   "execution_count": 11,
   "id": "coral-relation",
   "metadata": {},
   "outputs": [],
   "source": [
    "import pandas as pd"
   ]
  },
  {
   "cell_type": "code",
   "execution_count": 12,
   "id": "valuable-netherlands",
   "metadata": {},
   "outputs": [
    {
     "name": "stdout",
     "output_type": "stream",
     "text": [
      "(1058, 81)\n"
     ]
    }
   ],
   "source": [
    "data = pd.read_csv('../data/FundDatawithMonthlyPrices_v2_clean.csv')\n",
    "print(data.shape)"
   ]
  },
  {
   "cell_type": "markdown",
   "id": "narrative-cradle",
   "metadata": {},
   "source": [
    "## Unique Funds\n",
    "\n",
    "The dataset has 1,058 observations with complete price history; however, most of these observations are of different series of the same fund.  \n",
    "\n",
    "For the most part, the individual series of the same fund behave in the same manner.  That is, each series holds the same underlying securities (stocks/bonds/etc), but they differ with respect to fees, lockups, eligible accounts, minimum investment requirements, and other characteristics that don't affect fund returns and risk.\n",
    "\n",
    "While the fund-series hierarchy is valuable for visualization and informing investments, the hierarchy is redundant for ML algorithms. In this regard, we're only interested in the **unique** fund observations (i.e. a single series for each fund).\n",
    "\n",
    "Number of unique fund names within this dataset:"
   ]
  },
  {
   "cell_type": "code",
   "execution_count": 10,
   "id": "above-product",
   "metadata": {},
   "outputs": [
    {
     "data": {
      "text/plain": [
       "249"
      ]
     },
     "execution_count": 10,
     "metadata": {},
     "output_type": "execute_result"
    }
   ],
   "source": [
    "len(data['fundName'].unique())"
   ]
  },
  {
   "cell_type": "markdown",
   "id": "adult-frontier",
   "metadata": {},
   "source": [
    "### Unique funds by AAFM Category\n",
    "\n",
    "Here's a count of **unique** funds within each `aafmCategory`.  We don't have enough within-group observations to run anomaly detection algorithms for this grouping."
   ]
  },
  {
   "cell_type": "code",
   "execution_count": 17,
   "id": "hydraulic-envelope",
   "metadata": {},
   "outputs": [
    {
     "data": {
      "text/plain": [
       "aafmCategory\n",
       "Accionario America Latina                                             11\n",
       "Accionario Asia Emergente                                              8\n",
       "Accionario Asia Pacifico                                               1\n",
       "Accionario Brasil                                                      2\n",
       "Accionario Desarrollado                                               11\n",
       "Accionario EEUU                                                       11\n",
       "Accionario Emergente                                                   8\n",
       "Accionario Europa Desarrollado                                         6\n",
       "Accionario Europa Emergente                                            1\n",
       "Accionario Nacional Large CAP                                         19\n",
       "Accionario Nacional Otros                                              2\n",
       "Accionario Pais                                                        5\n",
       "Accionario Países MILA                                                 2\n",
       "Accionario Sectorial                                                   1\n",
       "Balanceado Agresivo                                                   17\n",
       "Balanceado Conservador                                                15\n",
       "Balanceado Moderado                                                   19\n",
       "Fondos de Deuda < 365 Dias Internacional                               1\n",
       "Fondos de Deuda < 365 Dias Nacional en UF                              2\n",
       "Fondos de Deuda < 365 Dias Nacional en pesos                          11\n",
       "Fondos de Deuda < 90 Dias Internacional, Dolar                         8\n",
       "Fondos de Deuda < 90 Dias Nacional                                    27\n",
       "Fondos de Deuda > 365 Dias Internacional, Mercados Emergentes          6\n",
       "Fondos de Deuda > 365 Dias Internacional, Mercados Internacionales     3\n",
       "Fondos de Deuda > 365 Dias Nacional, Inversion UF > 3 años y =<5      12\n",
       "Fondos de Deuda > 365 Dias Nacional, Inversion en UF > 5 años          6\n",
       "Fondos de Deuda > 365 Dias Nacional, Inversión en Pesos               12\n",
       "Fondos de Deuda > 365 Dias Nacional, Inversión en UF < 3 años         10\n",
       "Fondos de Deuda > 365 Dias Orig. Flex                                  8\n",
       "Inversionistas Calificados Accionario Nacional                         4\n",
       "Name: fundRUN, dtype: int64"
      ]
     },
     "execution_count": 17,
     "metadata": {},
     "output_type": "execute_result"
    }
   ],
   "source": [
    "data.groupby('fundName').first().groupby('aafmCategory').count().iloc[:, 0]"
   ]
  },
  {
   "cell_type": "markdown",
   "id": "purple-raise",
   "metadata": {},
   "source": [
    "### Unique Funds by SVS Category\n",
    "\n",
    "Here's a count of **unique** funds within each `svsCategory`.  We *might* have enough within-group observations for about half of these groupings:"
   ]
  },
  {
   "cell_type": "code",
   "execution_count": 18,
   "id": "fifteen-dayton",
   "metadata": {},
   "outputs": [
    {
     "data": {
      "text/plain": [
       "svsCategory\n",
       "FM DE INV.EN INST.DE DEUDA DE C/P CON DURACION <= 365 DIAS    14\n",
       "FM DE INV.EN INST.DE DEUDA DE C/P CON DURACION <= 90 DIAS     35\n",
       "FM DE INV.EN INST.DE DEUDA DE MEDIANO Y LARGO PLAZO           48\n",
       "FM DE INVERSION EN INSTRUMENTOS DE CAPITALIZACION             59\n",
       "FM DE LIBRE INVERSION                                         66\n",
       "FM DIRIGIDO A INVERSIONISTAS CALIFICADOS                       4\n",
       "FM MIXTO                                                      23\n",
       "Name: fundRUN, dtype: int64"
      ]
     },
     "execution_count": 18,
     "metadata": {},
     "output_type": "execute_result"
    }
   ],
   "source": [
    "data.groupby('fundName').first().groupby('svsCategory').count().iloc[:, 0]"
   ]
  },
  {
   "cell_type": "markdown",
   "id": "encouraging-answer",
   "metadata": {},
   "source": [
    "## Fund Series Price Variance\n",
    "\n",
    "Here's a concern that we need to address:  This cell shows a glimpse of the various series of the `A. CHILE CALIFICADO` fund. It's odd that the prices for **fundSeries A, B, and C** are constant across time.  While we might expect each series to have different price levels, we don't expect price series of the same funds to show no variation across time."
   ]
  },
  {
   "cell_type": "code",
   "execution_count": 23,
   "id": "electrical-headset",
   "metadata": {},
   "outputs": [
    {
     "data": {
      "text/html": [
       "<div>\n",
       "<style scoped>\n",
       "    .dataframe tbody tr th:only-of-type {\n",
       "        vertical-align: middle;\n",
       "    }\n",
       "\n",
       "    .dataframe tbody tr th {\n",
       "        vertical-align: top;\n",
       "    }\n",
       "\n",
       "    .dataframe thead th {\n",
       "        text-align: right;\n",
       "    }\n",
       "</style>\n",
       "<table border=\"1\" class=\"dataframe\">\n",
       "  <thead>\n",
       "    <tr style=\"text-align: right;\">\n",
       "      <th></th>\n",
       "      <th>fundRUN</th>\n",
       "      <th>fundName</th>\n",
       "      <th>fundSeries</th>\n",
       "      <th>aafmCategory</th>\n",
       "      <th>svsCategory</th>\n",
       "      <th>svsCategoryId</th>\n",
       "      <th>currency</th>\n",
       "      <th>fundRUNSeries</th>\n",
       "      <th>1/31/15</th>\n",
       "      <th>2/28/15</th>\n",
       "      <th>...</th>\n",
       "      <th>4/30/20</th>\n",
       "      <th>5/31/20</th>\n",
       "      <th>6/30/20</th>\n",
       "      <th>7/31/20</th>\n",
       "      <th>8/31/20</th>\n",
       "      <th>9/30/20</th>\n",
       "      <th>10/31/20</th>\n",
       "      <th>11/30/20</th>\n",
       "      <th>12/31/20</th>\n",
       "      <th>1/31/21</th>\n",
       "    </tr>\n",
       "  </thead>\n",
       "  <tbody>\n",
       "    <tr>\n",
       "      <th>0</th>\n",
       "      <td>8812-9</td>\n",
       "      <td>A. CHILE CALIFICADO</td>\n",
       "      <td>A</td>\n",
       "      <td>Inversionistas Calificados Accionario Nacional</td>\n",
       "      <td>FM DIRIGIDO A INVERSIONISTAS CALIFICADOS</td>\n",
       "      <td>8.0</td>\n",
       "      <td>P</td>\n",
       "      <td>8812-9A</td>\n",
       "      <td>1000.0000</td>\n",
       "      <td>1000.0000</td>\n",
       "      <td>...</td>\n",
       "      <td>1000.0000</td>\n",
       "      <td>1000.0000</td>\n",
       "      <td>1000.0000</td>\n",
       "      <td>1000.0000</td>\n",
       "      <td>1000.0000</td>\n",
       "      <td>1000.0000</td>\n",
       "      <td>1000.0000</td>\n",
       "      <td>1000.0000</td>\n",
       "      <td>1000.0000</td>\n",
       "      <td>1000.0000</td>\n",
       "    </tr>\n",
       "    <tr>\n",
       "      <th>1</th>\n",
       "      <td>8812-9</td>\n",
       "      <td>A. CHILE CALIFICADO</td>\n",
       "      <td>B</td>\n",
       "      <td>Inversionistas Calificados Accionario Nacional</td>\n",
       "      <td>FM DIRIGIDO A INVERSIONISTAS CALIFICADOS</td>\n",
       "      <td>8.0</td>\n",
       "      <td>P</td>\n",
       "      <td>8812-9B</td>\n",
       "      <td>1000.0000</td>\n",
       "      <td>1000.0000</td>\n",
       "      <td>...</td>\n",
       "      <td>1000.0000</td>\n",
       "      <td>1000.0000</td>\n",
       "      <td>1000.0000</td>\n",
       "      <td>1000.0000</td>\n",
       "      <td>1000.0000</td>\n",
       "      <td>1000.0000</td>\n",
       "      <td>1000.0000</td>\n",
       "      <td>1000.0000</td>\n",
       "      <td>1000.0000</td>\n",
       "      <td>1000.0000</td>\n",
       "    </tr>\n",
       "    <tr>\n",
       "      <th>2</th>\n",
       "      <td>8812-9</td>\n",
       "      <td>A. CHILE CALIFICADO</td>\n",
       "      <td>C</td>\n",
       "      <td>Inversionistas Calificados Accionario Nacional</td>\n",
       "      <td>FM DIRIGIDO A INVERSIONISTAS CALIFICADOS</td>\n",
       "      <td>8.0</td>\n",
       "      <td>P</td>\n",
       "      <td>8812-9C</td>\n",
       "      <td>1000.0000</td>\n",
       "      <td>1000.0000</td>\n",
       "      <td>...</td>\n",
       "      <td>1000.0000</td>\n",
       "      <td>1000.0000</td>\n",
       "      <td>1000.0000</td>\n",
       "      <td>1000.0000</td>\n",
       "      <td>1000.0000</td>\n",
       "      <td>1000.0000</td>\n",
       "      <td>1000.0000</td>\n",
       "      <td>1000.0000</td>\n",
       "      <td>1000.0000</td>\n",
       "      <td>1000.0000</td>\n",
       "    </tr>\n",
       "    <tr>\n",
       "      <th>3</th>\n",
       "      <td>8812-9</td>\n",
       "      <td>A. CHILE CALIFICADO</td>\n",
       "      <td>D</td>\n",
       "      <td>Inversionistas Calificados Accionario Nacional</td>\n",
       "      <td>FM DIRIGIDO A INVERSIONISTAS CALIFICADOS</td>\n",
       "      <td>8.0</td>\n",
       "      <td>P</td>\n",
       "      <td>8812-9D</td>\n",
       "      <td>767.0540</td>\n",
       "      <td>788.5753</td>\n",
       "      <td>...</td>\n",
       "      <td>706.7567</td>\n",
       "      <td>665.9628</td>\n",
       "      <td>712.7872</td>\n",
       "      <td>727.2119</td>\n",
       "      <td>690.8105</td>\n",
       "      <td>659.9857</td>\n",
       "      <td>636.7984</td>\n",
       "      <td>728.8420</td>\n",
       "      <td>764.2218</td>\n",
       "      <td>769.6162</td>\n",
       "    </tr>\n",
       "    <tr>\n",
       "      <th>4</th>\n",
       "      <td>8812-9</td>\n",
       "      <td>A. CHILE CALIFICADO</td>\n",
       "      <td>E</td>\n",
       "      <td>Inversionistas Calificados Accionario Nacional</td>\n",
       "      <td>FM DIRIGIDO A INVERSIONISTAS CALIFICADOS</td>\n",
       "      <td>8.0</td>\n",
       "      <td>P</td>\n",
       "      <td>8812-9E</td>\n",
       "      <td>746.0934</td>\n",
       "      <td>766.5560</td>\n",
       "      <td>...</td>\n",
       "      <td>552.8584</td>\n",
       "      <td>510.9303</td>\n",
       "      <td>546.2861</td>\n",
       "      <td>557.0110</td>\n",
       "      <td>528.8156</td>\n",
       "      <td>504.7108</td>\n",
       "      <td>485.7939</td>\n",
       "      <td>552.8705</td>\n",
       "      <td>574.1806</td>\n",
       "      <td>576.4414</td>\n",
       "    </tr>\n",
       "    <tr>\n",
       "      <th>5</th>\n",
       "      <td>8812-9</td>\n",
       "      <td>A. CHILE CALIFICADO</td>\n",
       "      <td>F</td>\n",
       "      <td>Inversionistas Calificados Accionario Nacional</td>\n",
       "      <td>FM DIRIGIDO A INVERSIONISTAS CALIFICADOS</td>\n",
       "      <td>8.0</td>\n",
       "      <td>P</td>\n",
       "      <td>8812-9F</td>\n",
       "      <td>726.3573</td>\n",
       "      <td>746.5076</td>\n",
       "      <td>...</td>\n",
       "      <td>550.4048</td>\n",
       "      <td>508.8351</td>\n",
       "      <td>544.2244</td>\n",
       "      <td>555.0967</td>\n",
       "      <td>527.1768</td>\n",
       "      <td>503.3117</td>\n",
       "      <td>484.6114</td>\n",
       "      <td>551.7055</td>\n",
       "      <td>573.1648</td>\n",
       "      <td>575.6172</td>\n",
       "    </tr>\n",
       "    <tr>\n",
       "      <th>6</th>\n",
       "      <td>8812-9</td>\n",
       "      <td>A. CHILE CALIFICADO</td>\n",
       "      <td>H</td>\n",
       "      <td>Inversionistas Calificados Accionario Nacional</td>\n",
       "      <td>FM DIRIGIDO A INVERSIONISTAS CALIFICADOS</td>\n",
       "      <td>8.0</td>\n",
       "      <td>P</td>\n",
       "      <td>8812-9H</td>\n",
       "      <td>907.8406</td>\n",
       "      <td>907.8406</td>\n",
       "      <td>...</td>\n",
       "      <td>692.4311</td>\n",
       "      <td>652.5746</td>\n",
       "      <td>698.5723</td>\n",
       "      <td>712.8311</td>\n",
       "      <td>677.2601</td>\n",
       "      <td>647.1431</td>\n",
       "      <td>624.5137</td>\n",
       "      <td>714.8987</td>\n",
       "      <td>749.7286</td>\n",
       "      <td>755.1522</td>\n",
       "    </tr>\n",
       "  </tbody>\n",
       "</table>\n",
       "<p>7 rows × 81 columns</p>\n",
       "</div>"
      ],
      "text/plain": [
       "  fundRUN             fundName fundSeries  \\\n",
       "0  8812-9  A. CHILE CALIFICADO          A   \n",
       "1  8812-9  A. CHILE CALIFICADO          B   \n",
       "2  8812-9  A. CHILE CALIFICADO          C   \n",
       "3  8812-9  A. CHILE CALIFICADO          D   \n",
       "4  8812-9  A. CHILE CALIFICADO          E   \n",
       "5  8812-9  A. CHILE CALIFICADO          F   \n",
       "6  8812-9  A. CHILE CALIFICADO          H   \n",
       "\n",
       "                                     aafmCategory  \\\n",
       "0  Inversionistas Calificados Accionario Nacional   \n",
       "1  Inversionistas Calificados Accionario Nacional   \n",
       "2  Inversionistas Calificados Accionario Nacional   \n",
       "3  Inversionistas Calificados Accionario Nacional   \n",
       "4  Inversionistas Calificados Accionario Nacional   \n",
       "5  Inversionistas Calificados Accionario Nacional   \n",
       "6  Inversionistas Calificados Accionario Nacional   \n",
       "\n",
       "                                svsCategory  svsCategoryId currency  \\\n",
       "0  FM DIRIGIDO A INVERSIONISTAS CALIFICADOS            8.0        P   \n",
       "1  FM DIRIGIDO A INVERSIONISTAS CALIFICADOS            8.0        P   \n",
       "2  FM DIRIGIDO A INVERSIONISTAS CALIFICADOS            8.0        P   \n",
       "3  FM DIRIGIDO A INVERSIONISTAS CALIFICADOS            8.0        P   \n",
       "4  FM DIRIGIDO A INVERSIONISTAS CALIFICADOS            8.0        P   \n",
       "5  FM DIRIGIDO A INVERSIONISTAS CALIFICADOS            8.0        P   \n",
       "6  FM DIRIGIDO A INVERSIONISTAS CALIFICADOS            8.0        P   \n",
       "\n",
       "  fundRUNSeries    1/31/15    2/28/15  ...    4/30/20    5/31/20    6/30/20  \\\n",
       "0       8812-9A  1000.0000  1000.0000  ...  1000.0000  1000.0000  1000.0000   \n",
       "1       8812-9B  1000.0000  1000.0000  ...  1000.0000  1000.0000  1000.0000   \n",
       "2       8812-9C  1000.0000  1000.0000  ...  1000.0000  1000.0000  1000.0000   \n",
       "3       8812-9D   767.0540   788.5753  ...   706.7567   665.9628   712.7872   \n",
       "4       8812-9E   746.0934   766.5560  ...   552.8584   510.9303   546.2861   \n",
       "5       8812-9F   726.3573   746.5076  ...   550.4048   508.8351   544.2244   \n",
       "6       8812-9H   907.8406   907.8406  ...   692.4311   652.5746   698.5723   \n",
       "\n",
       "     7/31/20    8/31/20    9/30/20   10/31/20   11/30/20   12/31/20    1/31/21  \n",
       "0  1000.0000  1000.0000  1000.0000  1000.0000  1000.0000  1000.0000  1000.0000  \n",
       "1  1000.0000  1000.0000  1000.0000  1000.0000  1000.0000  1000.0000  1000.0000  \n",
       "2  1000.0000  1000.0000  1000.0000  1000.0000  1000.0000  1000.0000  1000.0000  \n",
       "3   727.2119   690.8105   659.9857   636.7984   728.8420   764.2218   769.6162  \n",
       "4   557.0110   528.8156   504.7108   485.7939   552.8705   574.1806   576.4414  \n",
       "5   555.0967   527.1768   503.3117   484.6114   551.7055   573.1648   575.6172  \n",
       "6   712.8311   677.2601   647.1431   624.5137   714.8987   749.7286   755.1522  \n",
       "\n",
       "[7 rows x 81 columns]"
      ]
     },
     "execution_count": 23,
     "metadata": {},
     "output_type": "execute_result"
    }
   ],
   "source": [
    "data.head(7)"
   ]
  },
  {
   "cell_type": "markdown",
   "id": "divided-artwork",
   "metadata": {},
   "source": [
    "There are 34 observations where the price remains constant across the entire time period:"
   ]
  },
  {
   "cell_type": "code",
   "execution_count": 30,
   "id": "pacific-afternoon",
   "metadata": {},
   "outputs": [
    {
     "data": {
      "text/plain": [
       "34"
      ]
     },
     "execution_count": 30,
     "metadata": {},
     "output_type": "execute_result"
    }
   ],
   "source": [
    "(data.iloc[:, 8:].apply(lambda x: x.nunique(), axis=1) == 1).sum()"
   ]
  },
  {
   "cell_type": "markdown",
   "id": "final-volume",
   "metadata": {},
   "source": [
    "### What does this mean?\n",
    "\n",
    "We should investigate the cause of these 34 observations. Was the data unavailable (and 1000 a default or placeholder)? Are the specific `fundSeries` inactive? Do these observations actually belong to a different `fundName`?  Money market mutual funds, for example, are **designed to maintain stable prices**, so it wouldn't be surprising for such funds to exhibit no variance across time; is that the case, here?\n",
    "\n",
    "This all matters because we need to choose a representative `fundSeries` for each `fundName` to run through ML algorithms."
   ]
  },
  {
   "cell_type": "markdown",
   "id": "starting-correlation",
   "metadata": {},
   "source": [
    "## Conclusions / Next Steps\n",
    "\n",
    "We may need to expand our dataset from the *clean* observations (those with full price data across the time period) to the *raw* dataset, and interpolate missing values / remove threshold observations.\n",
    "\n",
    "- We need to decide which `fundSeries` will represent the unique mutual fund price data\n",
    "- We need to decide which **category** to group observations by (for anomaly detection): `aafmCategory` or `svsCategory`"
   ]
  }
 ],
 "metadata": {
  "kernelspec": {
   "display_name": "Python 3",
   "language": "python",
   "name": "python3"
  },
  "language_info": {
   "codemirror_mode": {
    "name": "ipython",
    "version": 3
   },
   "file_extension": ".py",
   "mimetype": "text/x-python",
   "name": "python",
   "nbconvert_exporter": "python",
   "pygments_lexer": "ipython3",
   "version": "3.8.8"
  }
 },
 "nbformat": 4,
 "nbformat_minor": 5
}
