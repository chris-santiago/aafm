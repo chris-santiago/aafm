{
 "metadata": {
  "language_info": {
   "codemirror_mode": {
    "name": "ipython",
    "version": 3
   },
   "file_extension": ".py",
   "mimetype": "text/x-python",
   "name": "python",
   "nbconvert_exporter": "python",
   "pygments_lexer": "ipython3",
   "version": "3.8.8-final"
  },
  "orig_nbformat": 2,
  "kernelspec": {
   "name": "python3",
   "display_name": "Python 3.8.8 64-bit",
   "metadata": {
    "interpreter": {
     "hash": "4cd7ab41f5fca4b9b44701077e38c5ffd31fe66a6cab21e0214b68d958d0e462"
    }
   }
  }
 },
 "nbformat": 4,
 "nbformat_minor": 2,
 "cells": [
  {
   "cell_type": "code",
   "execution_count": 11,
   "metadata": {},
   "outputs": [],
   "source": [
    "import pandas as pd\n",
    "import dask.dataframe as dd\n",
    "from dask.diagnostics import ProgressBar\n",
    "import glob"
   ]
  },
  {
   "cell_type": "code",
   "execution_count": 12,
   "metadata": {},
   "outputs": [],
   "source": [
    "# Globals\n",
    "\n",
    "filepath_glob_expression = \"../data/raw/domestic_holdings/*.txt\"\n",
    "parquet_filepath = \"../data/domestic_holdings.parq\"\n",
    "files = glob.glob(filepath_glob_expression)\n"
   ]
  },
  {
   "cell_type": "code",
   "execution_count": 13,
   "metadata": {},
   "outputs": [],
   "source": [
    "# TODO Look at why *202012.txt doesn't contain data\n",
    "#      Deleted for now\n",
    "\n",
    "all_shapes = []\n",
    "all_columns = []\n",
    "for file in files:\n",
    "    tmp = pd.read_csv(file, nrows=10, sep=',')\n",
    "    all_shapes.append(tmp.shape)\n",
    "    all_columns.append(tmp.columns)\n",
    "assert all([x == all_shapes[0] for x in all_shapes])\n",
    "assert all([all(x) == all(all_columns[0]) for x in all_columns])"
   ]
  },
  {
   "cell_type": "code",
   "execution_count": 14,
   "metadata": {},
   "outputs": [],
   "source": [
    "# TODO: Map Headers To English\n",
    "# TODO: Enforce Expected Data Types\n",
    "\n",
    "data = dd.read_csv(filepath_glob_expression, sep=\";\", dtype={'FFM_6010800': 'float64'})"
   ]
  },
  {
   "cell_type": "code",
   "execution_count": 15,
   "metadata": {},
   "outputs": [
    {
     "output_type": "execute_result",
     "data": {
      "text/plain": [
       "   Run Fondo     Nombre Fondo FFM_6010100  FFM_6010211 FFM_6010212  \\\n",
       "0       8001  CAPITALISA-ACC.    AESGENER     94272000           9   \n",
       "1       8001  CAPITALISA-ACC.     AGUAS-A     61808000           5   \n",
       "2       8001  CAPITALISA-ACC.         BCI     97006000           6   \n",
       "3       8001  CAPITALISA-ACC.  BSANTANDER     97036000           K   \n",
       "4       8001  CAPITALISA-ACC.      BUPACL     76005001           6   \n",
       "\n",
       "  FFM_6010300 FFM_6010400 FFM_6010500  FFM_6010600 FFM_6010700  ...  \\\n",
       "0          CL         ACC         NaN            1         N-2  ...   \n",
       "1          CL         ACC         NaN            1         N-1  ...   \n",
       "2          CL         ACC         NaN            1         N-1  ...   \n",
       "3          CL         ACC         NaN            1         N-1  ...   \n",
       "4          CL         ACC         NaN            1         N-3  ...   \n",
       "\n",
       "   FFM_REL_6011111  FFM_6011112 FFM_6011113  FFM_6011114  FFM_6011200  \\\n",
       "0           329.71            3           0          NaN        98254   \n",
       "1           361.51            3           0          NaN       129279   \n",
       "2         26384.26            3           0          NaN        62504   \n",
       "3            30.15            3           0          NaN       156188   \n",
       "4           507.00            3           0          NaN        58930   \n",
       "\n",
       "   FFM_6011300  FFM_6011400  FFM_6011511 FFM_6011512  FFM_6011513  \n",
       "0           $$           CL        0.004       0.003        4.381  \n",
       "1           $$           CL        0.006       0.008        5.764  \n",
       "2           $$           CL        0.002       0.000        2.787  \n",
       "3           $$           CL        0.003       0.001        6.964  \n",
       "4           $$           CL        0.018       0.012        2.628  \n",
       "\n",
       "[5 rows x 25 columns]"
      ],
      "text/html": "<div>\n<style scoped>\n    .dataframe tbody tr th:only-of-type {\n        vertical-align: middle;\n    }\n\n    .dataframe tbody tr th {\n        vertical-align: top;\n    }\n\n    .dataframe thead th {\n        text-align: right;\n    }\n</style>\n<table border=\"1\" class=\"dataframe\">\n  <thead>\n    <tr style=\"text-align: right;\">\n      <th></th>\n      <th>Run Fondo</th>\n      <th>Nombre Fondo</th>\n      <th>FFM_6010100</th>\n      <th>FFM_6010211</th>\n      <th>FFM_6010212</th>\n      <th>FFM_6010300</th>\n      <th>FFM_6010400</th>\n      <th>FFM_6010500</th>\n      <th>FFM_6010600</th>\n      <th>FFM_6010700</th>\n      <th>...</th>\n      <th>FFM_REL_6011111</th>\n      <th>FFM_6011112</th>\n      <th>FFM_6011113</th>\n      <th>FFM_6011114</th>\n      <th>FFM_6011200</th>\n      <th>FFM_6011300</th>\n      <th>FFM_6011400</th>\n      <th>FFM_6011511</th>\n      <th>FFM_6011512</th>\n      <th>FFM_6011513</th>\n    </tr>\n  </thead>\n  <tbody>\n    <tr>\n      <th>0</th>\n      <td>8001</td>\n      <td>CAPITALISA-ACC.</td>\n      <td>AESGENER</td>\n      <td>94272000</td>\n      <td>9</td>\n      <td>CL</td>\n      <td>ACC</td>\n      <td>NaN</td>\n      <td>1</td>\n      <td>N-2</td>\n      <td>...</td>\n      <td>329.71</td>\n      <td>3</td>\n      <td>0</td>\n      <td>NaN</td>\n      <td>98254</td>\n      <td>$$</td>\n      <td>CL</td>\n      <td>0.004</td>\n      <td>0.003</td>\n      <td>4.381</td>\n    </tr>\n    <tr>\n      <th>1</th>\n      <td>8001</td>\n      <td>CAPITALISA-ACC.</td>\n      <td>AGUAS-A</td>\n      <td>61808000</td>\n      <td>5</td>\n      <td>CL</td>\n      <td>ACC</td>\n      <td>NaN</td>\n      <td>1</td>\n      <td>N-1</td>\n      <td>...</td>\n      <td>361.51</td>\n      <td>3</td>\n      <td>0</td>\n      <td>NaN</td>\n      <td>129279</td>\n      <td>$$</td>\n      <td>CL</td>\n      <td>0.006</td>\n      <td>0.008</td>\n      <td>5.764</td>\n    </tr>\n    <tr>\n      <th>2</th>\n      <td>8001</td>\n      <td>CAPITALISA-ACC.</td>\n      <td>BCI</td>\n      <td>97006000</td>\n      <td>6</td>\n      <td>CL</td>\n      <td>ACC</td>\n      <td>NaN</td>\n      <td>1</td>\n      <td>N-1</td>\n      <td>...</td>\n      <td>26384.26</td>\n      <td>3</td>\n      <td>0</td>\n      <td>NaN</td>\n      <td>62504</td>\n      <td>$$</td>\n      <td>CL</td>\n      <td>0.002</td>\n      <td>0.000</td>\n      <td>2.787</td>\n    </tr>\n    <tr>\n      <th>3</th>\n      <td>8001</td>\n      <td>CAPITALISA-ACC.</td>\n      <td>BSANTANDER</td>\n      <td>97036000</td>\n      <td>K</td>\n      <td>CL</td>\n      <td>ACC</td>\n      <td>NaN</td>\n      <td>1</td>\n      <td>N-1</td>\n      <td>...</td>\n      <td>30.15</td>\n      <td>3</td>\n      <td>0</td>\n      <td>NaN</td>\n      <td>156188</td>\n      <td>$$</td>\n      <td>CL</td>\n      <td>0.003</td>\n      <td>0.001</td>\n      <td>6.964</td>\n    </tr>\n    <tr>\n      <th>4</th>\n      <td>8001</td>\n      <td>CAPITALISA-ACC.</td>\n      <td>BUPACL</td>\n      <td>76005001</td>\n      <td>6</td>\n      <td>CL</td>\n      <td>ACC</td>\n      <td>NaN</td>\n      <td>1</td>\n      <td>N-3</td>\n      <td>...</td>\n      <td>507.00</td>\n      <td>3</td>\n      <td>0</td>\n      <td>NaN</td>\n      <td>58930</td>\n      <td>$$</td>\n      <td>CL</td>\n      <td>0.018</td>\n      <td>0.012</td>\n      <td>2.628</td>\n    </tr>\n  </tbody>\n</table>\n<p>5 rows × 25 columns</p>\n</div>"
     },
     "metadata": {},
     "execution_count": 15
    }
   ],
   "source": [
    "data.head()"
   ]
  },
  {
   "cell_type": "code",
   "execution_count": 16,
   "metadata": {},
   "outputs": [
    {
     "output_type": "execute_result",
     "data": {
      "text/plain": [
       "Index(['Run Fondo', 'Nombre Fondo', 'FFM_6010100', 'FFM_6010211',\n",
       "       'FFM_6010212', 'FFM_6010300', 'FFM_6010400', 'FFM_6010500',\n",
       "       'FFM_6010600', 'FFM_6010700', 'FFM_6010800', 'FFM_6010900',\n",
       "       'FFM_6011000', 'FFM_TIR_6011111', 'FFM_PAR_6011111', 'FFM_REL_6011111',\n",
       "       'FFM_6011112', 'FFM_6011113', 'FFM_6011114', 'FFM_6011200',\n",
       "       'FFM_6011300', 'FFM_6011400', 'FFM_6011511', 'FFM_6011512',\n",
       "       'FFM_6011513'],\n",
       "      dtype='object')"
      ]
     },
     "metadata": {},
     "execution_count": 16
    }
   ],
   "source": [
    "\n",
    "data.columns"
   ]
  },
  {
   "cell_type": "code",
   "execution_count": 17,
   "metadata": {},
   "outputs": [
    {
     "output_type": "stream",
     "name": "stdout",
     "text": [
      "[########################################] | 100% Completed |  7.3s\n"
     ]
    }
   ],
   "source": [
    "# TODO: Fill in actual projection\n",
    "\n",
    "with ProgressBar():\n",
    "    cols = ['Run Fondo', 'Nombre Fondo', 'FFM_6011513']\n",
    "    sub = data[cols]\n",
    "    price_data = sub.compute()"
   ]
  },
  {
   "cell_type": "code",
   "execution_count": 18,
   "metadata": {},
   "outputs": [
    {
     "output_type": "execute_result",
     "data": {
      "text/plain": [
       "   Run Fondo     Nombre Fondo  FFM_6011513\n",
       "0       8001  CAPITALISA-ACC.        4.381\n",
       "1       8001  CAPITALISA-ACC.        5.764\n",
       "2       8001  CAPITALISA-ACC.        2.787\n",
       "3       8001  CAPITALISA-ACC.        6.964\n",
       "4       8001  CAPITALISA-ACC.        2.628"
      ],
      "text/html": "<div>\n<style scoped>\n    .dataframe tbody tr th:only-of-type {\n        vertical-align: middle;\n    }\n\n    .dataframe tbody tr th {\n        vertical-align: top;\n    }\n\n    .dataframe thead th {\n        text-align: right;\n    }\n</style>\n<table border=\"1\" class=\"dataframe\">\n  <thead>\n    <tr style=\"text-align: right;\">\n      <th></th>\n      <th>Run Fondo</th>\n      <th>Nombre Fondo</th>\n      <th>FFM_6011513</th>\n    </tr>\n  </thead>\n  <tbody>\n    <tr>\n      <th>0</th>\n      <td>8001</td>\n      <td>CAPITALISA-ACC.</td>\n      <td>4.381</td>\n    </tr>\n    <tr>\n      <th>1</th>\n      <td>8001</td>\n      <td>CAPITALISA-ACC.</td>\n      <td>5.764</td>\n    </tr>\n    <tr>\n      <th>2</th>\n      <td>8001</td>\n      <td>CAPITALISA-ACC.</td>\n      <td>2.787</td>\n    </tr>\n    <tr>\n      <th>3</th>\n      <td>8001</td>\n      <td>CAPITALISA-ACC.</td>\n      <td>6.964</td>\n    </tr>\n    <tr>\n      <th>4</th>\n      <td>8001</td>\n      <td>CAPITALISA-ACC.</td>\n      <td>2.628</td>\n    </tr>\n  </tbody>\n</table>\n</div>"
     },
     "metadata": {},
     "execution_count": 18
    }
   ],
   "source": [
    "price_data.head()"
   ]
  },
  {
   "cell_type": "code",
   "execution_count": 19,
   "metadata": {},
   "outputs": [
    {
     "output_type": "execute_result",
     "data": {
      "text/plain": [
       "(2702890, 3)"
      ]
     },
     "metadata": {},
     "execution_count": 19
    }
   ],
   "source": [
    "\n",
    "price_data.shape"
   ]
  },
  {
   "cell_type": "code",
   "execution_count": 20,
   "metadata": {},
   "outputs": [],
   "source": [
    "price_data.to_parquet(parquet_filepath, compression='gzip')"
   ]
  }
 ]
}