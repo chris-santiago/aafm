{
 "metadata": {
  "language_info": {
   "codemirror_mode": {
    "name": "ipython",
    "version": 3
   },
   "file_extension": ".py",
   "mimetype": "text/x-python",
   "name": "python",
   "nbconvert_exporter": "python",
   "pygments_lexer": "ipython3",
   "version": "3.8.8-final"
  },
  "orig_nbformat": 2,
  "kernelspec": {
   "name": "python3",
   "display_name": "Python 3.8.8 64-bit",
   "metadata": {
    "interpreter": {
     "hash": "4cd7ab41f5fca4b9b44701077e38c5ffd31fe66a6cab21e0214b68d958d0e462"
    }
   }
  }
 },
 "nbformat": 4,
 "nbformat_minor": 2,
 "cells": [
  {
   "cell_type": "code",
   "execution_count": 1,
   "metadata": {},
   "outputs": [],
   "source": [
    "import pandas as pd\n",
    "import dask.dataframe as dd\n",
    "from dask.diagnostics import ProgressBar\n",
    "import glob"
   ]
  },
  {
   "cell_type": "code",
   "execution_count": 2,
   "metadata": {},
   "outputs": [],
   "source": [
    "# Globals\n",
    "\n",
    "filepath_glob_expression = \"../data/raw/domestic_holdings/*.txt\"\n",
    "parquet_filepath = \"../data/domestic_holdings.parq\"\n",
    "files = glob.glob(filepath_glob_expression)\n"
   ]
  },
  {
   "cell_type": "code",
   "execution_count": 3,
   "metadata": {},
   "outputs": [],
   "source": [
    "# TODO Look at why *202012.txt doesn't contain data\n",
    "#      Deleted for now\n",
    "\n",
    "all_shapes = []\n",
    "all_columns = []\n",
    "for file in files:\n",
    "    tmp = pd.read_csv(file, nrows=10, sep=',')\n",
    "    all_shapes.append(tmp.shape)\n",
    "    all_columns.append(tmp.columns)\n",
    "assert all([x == all_shapes[0] for x in all_shapes])\n",
    "assert all([all(x) == all(all_columns[0]) for x in all_columns])"
   ]
  },
  {
   "cell_type": "code",
   "execution_count": 4,
   "metadata": {},
   "outputs": [],
   "source": [
    "data = dd.read_csv(filepath_glob_expression, sep=\";\", dtype={'FFM_6010800': 'float64'}).compute()"
   ]
  },
  {
   "cell_type": "code",
   "execution_count": 5,
   "metadata": {},
   "outputs": [
    {
     "output_type": "execute_result",
     "data": {
      "text/plain": [
       "   Run Fondo     Nombre Fondo FFM_6010100  FFM_6010211 FFM_6010212  \\\n",
       "0       8001  CAPITALISA-ACC.    AESGENER     94272000           9   \n",
       "1       8001  CAPITALISA-ACC.     AGUAS-A     61808000           5   \n",
       "2       8001  CAPITALISA-ACC.         BCI     97006000           6   \n",
       "3       8001  CAPITALISA-ACC.  BSANTANDER     97036000           K   \n",
       "4       8001  CAPITALISA-ACC.      BUPACL     76005001           6   \n",
       "\n",
       "  FFM_6010300 FFM_6010400 FFM_6010500  FFM_6010600 FFM_6010700  ...  \\\n",
       "0          CL         ACC         NaN            1         N-2  ...   \n",
       "1          CL         ACC         NaN            1         N-1  ...   \n",
       "2          CL         ACC         NaN            1         N-1  ...   \n",
       "3          CL         ACC         NaN            1         N-1  ...   \n",
       "4          CL         ACC         NaN            1         N-3  ...   \n",
       "\n",
       "   FFM_REL_6011111  FFM_6011112 FFM_6011113  FFM_6011114  FFM_6011200  \\\n",
       "0           329.71            3           0          NaN        98254   \n",
       "1           361.51            3           0          NaN       129279   \n",
       "2         26384.26            3           0          NaN        62504   \n",
       "3            30.15            3           0          NaN       156188   \n",
       "4           507.00            3           0          NaN        58930   \n",
       "\n",
       "   FFM_6011300  FFM_6011400  FFM_6011511 FFM_6011512  FFM_6011513  \n",
       "0           $$           CL        0.004       0.003        4.381  \n",
       "1           $$           CL        0.006       0.008        5.764  \n",
       "2           $$           CL        0.002       0.000        2.787  \n",
       "3           $$           CL        0.003       0.001        6.964  \n",
       "4           $$           CL        0.018       0.012        2.628  \n",
       "\n",
       "[5 rows x 25 columns]"
      ],
      "text/html": "<div>\n<style scoped>\n    .dataframe tbody tr th:only-of-type {\n        vertical-align: middle;\n    }\n\n    .dataframe tbody tr th {\n        vertical-align: top;\n    }\n\n    .dataframe thead th {\n        text-align: right;\n    }\n</style>\n<table border=\"1\" class=\"dataframe\">\n  <thead>\n    <tr style=\"text-align: right;\">\n      <th></th>\n      <th>Run Fondo</th>\n      <th>Nombre Fondo</th>\n      <th>FFM_6010100</th>\n      <th>FFM_6010211</th>\n      <th>FFM_6010212</th>\n      <th>FFM_6010300</th>\n      <th>FFM_6010400</th>\n      <th>FFM_6010500</th>\n      <th>FFM_6010600</th>\n      <th>FFM_6010700</th>\n      <th>...</th>\n      <th>FFM_REL_6011111</th>\n      <th>FFM_6011112</th>\n      <th>FFM_6011113</th>\n      <th>FFM_6011114</th>\n      <th>FFM_6011200</th>\n      <th>FFM_6011300</th>\n      <th>FFM_6011400</th>\n      <th>FFM_6011511</th>\n      <th>FFM_6011512</th>\n      <th>FFM_6011513</th>\n    </tr>\n  </thead>\n  <tbody>\n    <tr>\n      <th>0</th>\n      <td>8001</td>\n      <td>CAPITALISA-ACC.</td>\n      <td>AESGENER</td>\n      <td>94272000</td>\n      <td>9</td>\n      <td>CL</td>\n      <td>ACC</td>\n      <td>NaN</td>\n      <td>1</td>\n      <td>N-2</td>\n      <td>...</td>\n      <td>329.71</td>\n      <td>3</td>\n      <td>0</td>\n      <td>NaN</td>\n      <td>98254</td>\n      <td>$$</td>\n      <td>CL</td>\n      <td>0.004</td>\n      <td>0.003</td>\n      <td>4.381</td>\n    </tr>\n    <tr>\n      <th>1</th>\n      <td>8001</td>\n      <td>CAPITALISA-ACC.</td>\n      <td>AGUAS-A</td>\n      <td>61808000</td>\n      <td>5</td>\n      <td>CL</td>\n      <td>ACC</td>\n      <td>NaN</td>\n      <td>1</td>\n      <td>N-1</td>\n      <td>...</td>\n      <td>361.51</td>\n      <td>3</td>\n      <td>0</td>\n      <td>NaN</td>\n      <td>129279</td>\n      <td>$$</td>\n      <td>CL</td>\n      <td>0.006</td>\n      <td>0.008</td>\n      <td>5.764</td>\n    </tr>\n    <tr>\n      <th>2</th>\n      <td>8001</td>\n      <td>CAPITALISA-ACC.</td>\n      <td>BCI</td>\n      <td>97006000</td>\n      <td>6</td>\n      <td>CL</td>\n      <td>ACC</td>\n      <td>NaN</td>\n      <td>1</td>\n      <td>N-1</td>\n      <td>...</td>\n      <td>26384.26</td>\n      <td>3</td>\n      <td>0</td>\n      <td>NaN</td>\n      <td>62504</td>\n      <td>$$</td>\n      <td>CL</td>\n      <td>0.002</td>\n      <td>0.000</td>\n      <td>2.787</td>\n    </tr>\n    <tr>\n      <th>3</th>\n      <td>8001</td>\n      <td>CAPITALISA-ACC.</td>\n      <td>BSANTANDER</td>\n      <td>97036000</td>\n      <td>K</td>\n      <td>CL</td>\n      <td>ACC</td>\n      <td>NaN</td>\n      <td>1</td>\n      <td>N-1</td>\n      <td>...</td>\n      <td>30.15</td>\n      <td>3</td>\n      <td>0</td>\n      <td>NaN</td>\n      <td>156188</td>\n      <td>$$</td>\n      <td>CL</td>\n      <td>0.003</td>\n      <td>0.001</td>\n      <td>6.964</td>\n    </tr>\n    <tr>\n      <th>4</th>\n      <td>8001</td>\n      <td>CAPITALISA-ACC.</td>\n      <td>BUPACL</td>\n      <td>76005001</td>\n      <td>6</td>\n      <td>CL</td>\n      <td>ACC</td>\n      <td>NaN</td>\n      <td>1</td>\n      <td>N-3</td>\n      <td>...</td>\n      <td>507.00</td>\n      <td>3</td>\n      <td>0</td>\n      <td>NaN</td>\n      <td>58930</td>\n      <td>$$</td>\n      <td>CL</td>\n      <td>0.018</td>\n      <td>0.012</td>\n      <td>2.628</td>\n    </tr>\n  </tbody>\n</table>\n<p>5 rows × 25 columns</p>\n</div>"
     },
     "metadata": {},
     "execution_count": 5
    }
   ],
   "source": [
    "data.head()"
   ]
  },
  {
   "cell_type": "code",
   "execution_count": 6,
   "metadata": {},
   "outputs": [
    {
     "output_type": "execute_result",
     "data": {
      "text/plain": [
       "Index(['Run Fondo', 'Nombre Fondo', 'FFM_6010100', 'FFM_6010211',\n",
       "       'FFM_6010212', 'FFM_6010300', 'FFM_6010400', 'FFM_6010500',\n",
       "       'FFM_6010600', 'FFM_6010700', 'FFM_6010800', 'FFM_6010900',\n",
       "       'FFM_6011000', 'FFM_TIR_6011111', 'FFM_PAR_6011111', 'FFM_REL_6011111',\n",
       "       'FFM_6011112', 'FFM_6011113', 'FFM_6011114', 'FFM_6011200',\n",
       "       'FFM_6011300', 'FFM_6011400', 'FFM_6011511', 'FFM_6011512',\n",
       "       'FFM_6011513'],\n",
       "      dtype='object')"
      ]
     },
     "metadata": {},
     "execution_count": 6
    }
   ],
   "source": [
    "\n",
    "data.columns"
   ]
  },
  {
   "cell_type": "code",
   "execution_count": 7,
   "metadata": {},
   "outputs": [],
   "source": [
    "data.rename(columns={\"Run Fondo\": \"Fund Id\",\n",
    "\"Nombre Fondo\": \"Fund Name\",\n",
    "\"FFM_6010100\": \"Asset Id\",\n",
    "\"FFM_6010211\": \"Asset Agent Id\",\n",
    "\"FFM_6010212\": \"Vertification Id\",\n",
    "\"FFM_6010300\": \"Country Code\",\n",
    "\"FFM_6010400\": \"Asset Type\",\n",
    "\"FFM_6010500\": \"Maturity Date\",\n",
    "\"FFM_6010600\": \"Asset Restrictions\",\n",
    "\"FFM_6010700\": \"Risk Classification\",\n",
    "\"FFM_6010800\": \"Company Group Classification\",\n",
    "\"FFM_6010900\": \"Number Of Units\",\n",
    "\"FFM_6011000\": \"Unit Or Currency Type\",\n",
    "\"FFM_TIR_6011111\": \"Asset Rate\",\n",
    "\"FFM_PAR_6011111\": \"Price Compared To PAR Value\",\n",
    "\"FFM_REL_6011111\": \"Price\",\n",
    "\"FFM_6011112\": \"Price Code\",\n",
    "\"FFM_6011113\": \"Price Convention In Days\",\n",
    "\"FFM_6011114\": \"Type Of Interest\",\n",
    "\"FFM_6011200\": \"Valuation At End Of Month\",\n",
    "\"FFM_6011300\": \"Currency Code\",\n",
    "\"FFM_6011400\": \"Transaction Country Code\",\n",
    "\"FFM_6011511\": \"Number Of Shared By Asset Agent\",\n",
    "\"FFM_6011512\": \"Percent Of Asset Fund Has Invested\",\n",
    "\"FFM_6011513\": \"Percent Of Fund Asset Is Held\"}, inplace=True)"
   ]
  },
  {
   "cell_type": "code",
   "execution_count": 8,
   "metadata": {},
   "outputs": [],
   "source": [
    "if os.path.exists(parquet_filepath):\n",
    "  os.remove(parquet_filepath)\n",
    "\n",
    "data.to_parquet(parquet_filepath, compression='gzip')"
   ]
  },
  {
   "cell_type": "code",
   "execution_count": 9,
   "metadata": {},
   "outputs": [
    {
     "output_type": "execute_result",
     "data": {
      "text/plain": [
       "       Fund Id             Fund Name      Asset Id  Asset Agent Id  \\\n",
       "0         8001       CAPITALISA-ACC.      AESGENER        94272000   \n",
       "1         8001       CAPITALISA-ACC.       AGUAS-A        61808000   \n",
       "2         8001       CAPITALISA-ACC.           BCI        97006000   \n",
       "3         8001       CAPITALISA-ACC.    BSANTANDER        97036000   \n",
       "4         8001       CAPITALISA-ACC.        BUPACL        76005001   \n",
       "...        ...                   ...           ...             ...   \n",
       "35010     9981  FM BCI EST. DEU. CAL       BCMPC-F        96596540   \n",
       "35011     9981  FM BCI EST. DEU. CAL       BWNCO-B        92147000   \n",
       "35012     9981  FM BCI EST. DEU. CAL       BTMOV-O        76124890   \n",
       "35013     9981  FM BCI EST. DEU. CAL  BNPDBC010221        97029000   \n",
       "35014     9981  FM BCI EST. DEU. CAL  BNPDBC020221        97029000   \n",
       "\n",
       "      Vertification Id Country Code Asset Type Maturity Date  \\\n",
       "0                    9           CL        ACC          None   \n",
       "1                    5           CL        ACC          None   \n",
       "2                    6           CL        ACC          None   \n",
       "3                    K           CL        ACC          None   \n",
       "4                    6           CL        ACC          None   \n",
       "...                ...          ...        ...           ...   \n",
       "35010                8           CL         BE    24/03/2030   \n",
       "35011                2           CL         BE    01/10/2030   \n",
       "35012                1           CL         BE    01/12/2025   \n",
       "35013                1           CL       PDBC    01/02/2021   \n",
       "35014                1           CL       PDBC    02/02/2021   \n",
       "\n",
       "       Asset Restrictions Risk Classification  ...     Price  Price Code  \\\n",
       "0                       1                 N-2  ...    329.71           3   \n",
       "1                       1                 N-1  ...    361.51           3   \n",
       "2                       1                 N-1  ...  26384.26           3   \n",
       "3                       1                 N-1  ...     30.15           3   \n",
       "4                       1                 N-3  ...    507.00           3   \n",
       "...                   ...                 ...  ...       ...         ...   \n",
       "35010                   1                  AA  ...       NaN           1   \n",
       "35011                   1                   A  ...       NaN           1   \n",
       "35012                   1                  AA  ...       NaN           1   \n",
       "35013                   1                None  ...       NaN           1   \n",
       "35014                   1                None  ...       NaN           1   \n",
       "\n",
       "      Price Convention In Days  Type Of Interest  Valuation At End Of Month  \\\n",
       "0                            0              None                      98254   \n",
       "1                            0              None                     129279   \n",
       "2                            0              None                      62504   \n",
       "3                            0              None                     156188   \n",
       "4                            0              None                      58930   \n",
       "...                        ...               ...                        ...   \n",
       "35010                      365                RC                    1595295   \n",
       "35011                      365                RC                    1593659   \n",
       "35012                      365                NC                    1056353   \n",
       "35013                       30                NL                     309998   \n",
       "35014                       30                NL                     539993   \n",
       "\n",
       "       Currency Code  Transaction Country Code  \\\n",
       "0                 $$                        CL   \n",
       "1                 $$                        CL   \n",
       "2                 $$                        CL   \n",
       "3                 $$                        CL   \n",
       "4                 $$                        CL   \n",
       "...              ...                       ...   \n",
       "35010             $$                        CL   \n",
       "35011             $$                        CL   \n",
       "35012             $$                        CL   \n",
       "35013             $$                        CL   \n",
       "35014             $$                        CL   \n",
       "\n",
       "       Number Of Shared By Asset Agent Percent Of Asset Fund Has Invested  \\\n",
       "0                                0.004                              0.003   \n",
       "1                                0.006                              0.008   \n",
       "2                                0.002                              0.000   \n",
       "3                                0.003                              0.001   \n",
       "4                                0.018                              0.012   \n",
       "...                                ...                                ...   \n",
       "35010                            0.000                              0.020   \n",
       "35011                            0.000                              0.000   \n",
       "35012                            0.000                              0.070   \n",
       "35013                            0.000                              0.001   \n",
       "35014                            0.000                              0.002   \n",
       "\n",
       "       Percent Of Fund Asset Is Held  \n",
       "0                              4.381  \n",
       "1                              5.764  \n",
       "2                              2.787  \n",
       "3                              6.964  \n",
       "4                              2.628  \n",
       "...                              ...  \n",
       "35010                         10.949  \n",
       "35011                         10.938  \n",
       "35012                          7.250  \n",
       "35013                          2.128  \n",
       "35014                          3.706  \n",
       "\n",
       "[2702890 rows x 25 columns]"
      ],
      "text/html": "<div>\n<style scoped>\n    .dataframe tbody tr th:only-of-type {\n        vertical-align: middle;\n    }\n\n    .dataframe tbody tr th {\n        vertical-align: top;\n    }\n\n    .dataframe thead th {\n        text-align: right;\n    }\n</style>\n<table border=\"1\" class=\"dataframe\">\n  <thead>\n    <tr style=\"text-align: right;\">\n      <th></th>\n      <th>Fund Id</th>\n      <th>Fund Name</th>\n      <th>Asset Id</th>\n      <th>Asset Agent Id</th>\n      <th>Vertification Id</th>\n      <th>Country Code</th>\n      <th>Asset Type</th>\n      <th>Maturity Date</th>\n      <th>Asset Restrictions</th>\n      <th>Risk Classification</th>\n      <th>...</th>\n      <th>Price</th>\n      <th>Price Code</th>\n      <th>Price Convention In Days</th>\n      <th>Type Of Interest</th>\n      <th>Valuation At End Of Month</th>\n      <th>Currency Code</th>\n      <th>Transaction Country Code</th>\n      <th>Number Of Shared By Asset Agent</th>\n      <th>Percent Of Asset Fund Has Invested</th>\n      <th>Percent Of Fund Asset Is Held</th>\n    </tr>\n  </thead>\n  <tbody>\n    <tr>\n      <th>0</th>\n      <td>8001</td>\n      <td>CAPITALISA-ACC.</td>\n      <td>AESGENER</td>\n      <td>94272000</td>\n      <td>9</td>\n      <td>CL</td>\n      <td>ACC</td>\n      <td>None</td>\n      <td>1</td>\n      <td>N-2</td>\n      <td>...</td>\n      <td>329.71</td>\n      <td>3</td>\n      <td>0</td>\n      <td>None</td>\n      <td>98254</td>\n      <td>$$</td>\n      <td>CL</td>\n      <td>0.004</td>\n      <td>0.003</td>\n      <td>4.381</td>\n    </tr>\n    <tr>\n      <th>1</th>\n      <td>8001</td>\n      <td>CAPITALISA-ACC.</td>\n      <td>AGUAS-A</td>\n      <td>61808000</td>\n      <td>5</td>\n      <td>CL</td>\n      <td>ACC</td>\n      <td>None</td>\n      <td>1</td>\n      <td>N-1</td>\n      <td>...</td>\n      <td>361.51</td>\n      <td>3</td>\n      <td>0</td>\n      <td>None</td>\n      <td>129279</td>\n      <td>$$</td>\n      <td>CL</td>\n      <td>0.006</td>\n      <td>0.008</td>\n      <td>5.764</td>\n    </tr>\n    <tr>\n      <th>2</th>\n      <td>8001</td>\n      <td>CAPITALISA-ACC.</td>\n      <td>BCI</td>\n      <td>97006000</td>\n      <td>6</td>\n      <td>CL</td>\n      <td>ACC</td>\n      <td>None</td>\n      <td>1</td>\n      <td>N-1</td>\n      <td>...</td>\n      <td>26384.26</td>\n      <td>3</td>\n      <td>0</td>\n      <td>None</td>\n      <td>62504</td>\n      <td>$$</td>\n      <td>CL</td>\n      <td>0.002</td>\n      <td>0.000</td>\n      <td>2.787</td>\n    </tr>\n    <tr>\n      <th>3</th>\n      <td>8001</td>\n      <td>CAPITALISA-ACC.</td>\n      <td>BSANTANDER</td>\n      <td>97036000</td>\n      <td>K</td>\n      <td>CL</td>\n      <td>ACC</td>\n      <td>None</td>\n      <td>1</td>\n      <td>N-1</td>\n      <td>...</td>\n      <td>30.15</td>\n      <td>3</td>\n      <td>0</td>\n      <td>None</td>\n      <td>156188</td>\n      <td>$$</td>\n      <td>CL</td>\n      <td>0.003</td>\n      <td>0.001</td>\n      <td>6.964</td>\n    </tr>\n    <tr>\n      <th>4</th>\n      <td>8001</td>\n      <td>CAPITALISA-ACC.</td>\n      <td>BUPACL</td>\n      <td>76005001</td>\n      <td>6</td>\n      <td>CL</td>\n      <td>ACC</td>\n      <td>None</td>\n      <td>1</td>\n      <td>N-3</td>\n      <td>...</td>\n      <td>507.00</td>\n      <td>3</td>\n      <td>0</td>\n      <td>None</td>\n      <td>58930</td>\n      <td>$$</td>\n      <td>CL</td>\n      <td>0.018</td>\n      <td>0.012</td>\n      <td>2.628</td>\n    </tr>\n    <tr>\n      <th>...</th>\n      <td>...</td>\n      <td>...</td>\n      <td>...</td>\n      <td>...</td>\n      <td>...</td>\n      <td>...</td>\n      <td>...</td>\n      <td>...</td>\n      <td>...</td>\n      <td>...</td>\n      <td>...</td>\n      <td>...</td>\n      <td>...</td>\n      <td>...</td>\n      <td>...</td>\n      <td>...</td>\n      <td>...</td>\n      <td>...</td>\n      <td>...</td>\n      <td>...</td>\n      <td>...</td>\n    </tr>\n    <tr>\n      <th>35010</th>\n      <td>9981</td>\n      <td>FM BCI EST. DEU. CAL</td>\n      <td>BCMPC-F</td>\n      <td>96596540</td>\n      <td>8</td>\n      <td>CL</td>\n      <td>BE</td>\n      <td>24/03/2030</td>\n      <td>1</td>\n      <td>AA</td>\n      <td>...</td>\n      <td>NaN</td>\n      <td>1</td>\n      <td>365</td>\n      <td>RC</td>\n      <td>1595295</td>\n      <td>$$</td>\n      <td>CL</td>\n      <td>0.000</td>\n      <td>0.020</td>\n      <td>10.949</td>\n    </tr>\n    <tr>\n      <th>35011</th>\n      <td>9981</td>\n      <td>FM BCI EST. DEU. CAL</td>\n      <td>BWNCO-B</td>\n      <td>92147000</td>\n      <td>2</td>\n      <td>CL</td>\n      <td>BE</td>\n      <td>01/10/2030</td>\n      <td>1</td>\n      <td>A</td>\n      <td>...</td>\n      <td>NaN</td>\n      <td>1</td>\n      <td>365</td>\n      <td>RC</td>\n      <td>1593659</td>\n      <td>$$</td>\n      <td>CL</td>\n      <td>0.000</td>\n      <td>0.000</td>\n      <td>10.938</td>\n    </tr>\n    <tr>\n      <th>35012</th>\n      <td>9981</td>\n      <td>FM BCI EST. DEU. CAL</td>\n      <td>BTMOV-O</td>\n      <td>76124890</td>\n      <td>1</td>\n      <td>CL</td>\n      <td>BE</td>\n      <td>01/12/2025</td>\n      <td>1</td>\n      <td>AA</td>\n      <td>...</td>\n      <td>NaN</td>\n      <td>1</td>\n      <td>365</td>\n      <td>NC</td>\n      <td>1056353</td>\n      <td>$$</td>\n      <td>CL</td>\n      <td>0.000</td>\n      <td>0.070</td>\n      <td>7.250</td>\n    </tr>\n    <tr>\n      <th>35013</th>\n      <td>9981</td>\n      <td>FM BCI EST. DEU. CAL</td>\n      <td>BNPDBC010221</td>\n      <td>97029000</td>\n      <td>1</td>\n      <td>CL</td>\n      <td>PDBC</td>\n      <td>01/02/2021</td>\n      <td>1</td>\n      <td>None</td>\n      <td>...</td>\n      <td>NaN</td>\n      <td>1</td>\n      <td>30</td>\n      <td>NL</td>\n      <td>309998</td>\n      <td>$$</td>\n      <td>CL</td>\n      <td>0.000</td>\n      <td>0.001</td>\n      <td>2.128</td>\n    </tr>\n    <tr>\n      <th>35014</th>\n      <td>9981</td>\n      <td>FM BCI EST. DEU. CAL</td>\n      <td>BNPDBC020221</td>\n      <td>97029000</td>\n      <td>1</td>\n      <td>CL</td>\n      <td>PDBC</td>\n      <td>02/02/2021</td>\n      <td>1</td>\n      <td>None</td>\n      <td>...</td>\n      <td>NaN</td>\n      <td>1</td>\n      <td>30</td>\n      <td>NL</td>\n      <td>539993</td>\n      <td>$$</td>\n      <td>CL</td>\n      <td>0.000</td>\n      <td>0.002</td>\n      <td>3.706</td>\n    </tr>\n  </tbody>\n</table>\n<p>2702890 rows × 25 columns</p>\n</div>"
     },
     "metadata": {},
     "execution_count": 9
    }
   ],
   "source": [
    "pd.read_parquet(parquet_filepath)"
   ]
  }
 ]
}