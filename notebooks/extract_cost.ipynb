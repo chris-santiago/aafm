{
 "metadata": {
  "language_info": {
   "codemirror_mode": {
    "name": "ipython",
    "version": 3
   },
   "file_extension": ".py",
   "mimetype": "text/x-python",
   "name": "python",
   "nbconvert_exporter": "python",
   "pygments_lexer": "ipython3",
   "version": "3.8.8-final"
  },
  "orig_nbformat": 2,
  "kernelspec": {
   "name": "python3",
   "display_name": "Python 3.8.8 64-bit",
   "metadata": {
    "interpreter": {
     "hash": "4cd7ab41f5fca4b9b44701077e38c5ffd31fe66a6cab21e0214b68d958d0e462"
    }
   }
  }
 },
 "nbformat": 4,
 "nbformat_minor": 2,
 "cells": [
  {
   "cell_type": "code",
   "execution_count": null,
   "metadata": {},
   "outputs": [],
   "source": [
    "import pandas as pd"
   ]
  },
  {
   "cell_type": "code",
   "execution_count": null,
   "metadata": {},
   "outputs": [],
   "source": [
    "# See: https://pandas.pydata.org/pandas-docs/stable/reference/api/pandas.read_excel.html\n",
    "\n",
    "# Manually supplying headers because of multi-level headers in oroginal document\n",
    "headers = [\"Period\", \"Administradora\", \"Nombre Fondo\", \"Tipo Fondo\", \"Moneda\", \"Serie\", \"Caract.\", \"Remuneración: Rem. Fija\", \"Remuneración: Rem. Var.\", \"Gastos OP.\", \"TAC Rem. Fija %\", \"TAC Rem. Var. %\", \"TAC Gastos Op. %\", \"TAC Total %\", \"Comisión de Colocación: Condición\", \"Comisión de Colocación: Comisión\",    \"Comisión de Colocación Diferida al Rescate: Comisión\",    \"Comisión de Colocación Diferida al Rescate: Comisión\"]\n",
    "\n",
    "data = pd.read_excel('../data/raw/cost/costosffmm20210212.xlsx', sheet_name=0, header=None, names=headers, skiprows=4, parse_dates=[\"Period\"])\n",
    "\n",
    "# Drop a bunch of empty lines\n",
    "data.dropna()\n",
    "\n",
    "# Drop the last few rows. The last few rows are a legend of sorts\n",
    "data.drop(data.tail(13).index, inplace=True)"
   ]
  },
  {
   "cell_type": "code",
   "execution_count": null,
   "metadata": {},
   "outputs": [],
   "source": [
    "data.head(2)"
   ]
  },
  {
   "cell_type": "code",
   "execution_count": null,
   "metadata": {},
   "outputs": [],
   "source": [
    "data.tail(2)"
   ]
  },
  {
   "cell_type": "code",
   "execution_count": null,
   "metadata": {},
   "outputs": [],
   "source": [
    "# TODO: Fill in  actual projection\n",
    "output_data = data[[\"Period\", \"Administradora\", \"Nombre Fondo\", \"Tipo Fondo\"]]\n",
    "output_data.head()"
   ]
  },
  {
   "cell_type": "code",
   "execution_count": null,
   "metadata": {},
   "outputs": [],
   "source": [
    "output_data.to_parquet('../data/mutual_fund_cost.parq', compression='gzip')"
   ]
  }
 ]
}