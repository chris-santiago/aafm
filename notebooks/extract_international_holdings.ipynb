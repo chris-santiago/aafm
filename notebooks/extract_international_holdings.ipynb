{
 "metadata": {
  "language_info": {
   "codemirror_mode": {
    "name": "ipython",
    "version": 3
   },
   "file_extension": ".py",
   "mimetype": "text/x-python",
   "name": "python",
   "nbconvert_exporter": "python",
   "pygments_lexer": "ipython3",
   "version": "3.8.8-final"
  },
  "orig_nbformat": 2,
  "kernelspec": {
   "name": "python3",
   "display_name": "Python 3.8.8 64-bit",
   "metadata": {
    "interpreter": {
     "hash": "4cd7ab41f5fca4b9b44701077e38c5ffd31fe66a6cab21e0214b68d958d0e462"
    }
   }
  }
 },
 "nbformat": 4,
 "nbformat_minor": 2,
 "cells": [
  {
   "cell_type": "code",
   "execution_count": 1,
   "metadata": {},
   "outputs": [],
   "source": [
    "import pandas as pd\n",
    "import dask.dataframe as dd\n",
    "from dask.diagnostics import ProgressBar\n",
    "import glob\n",
    "import os"
   ]
  },
  {
   "cell_type": "code",
   "execution_count": 2,
   "metadata": {},
   "outputs": [],
   "source": [
    "# Globals\n",
    "\n",
    "filepath_glob_expression = \"../data/raw/international_holdings/*.txt\"\n",
    "parquet_filepath = \"../data/international_holdings.parq\"\n",
    "files = glob.glob(filepath_glob_expression)\n"
   ]
  },
  {
   "cell_type": "code",
   "execution_count": 3,
   "metadata": {},
   "outputs": [],
   "source": [
    "all_shapes = []\n",
    "all_columns = []\n",
    "for file in files:\n",
    "    tmp = pd.read_csv(file, nrows=10, sep=',')\n",
    "    all_shapes.append(tmp.shape)\n",
    "    all_columns.append(tmp.columns)\n",
    "assert all([x == all_shapes[0] for x in all_shapes])\n",
    "assert all([all(x) == all(all_columns[0]) for x in all_columns])"
   ]
  },
  {
   "cell_type": "code",
   "execution_count": 4,
   "metadata": {},
   "outputs": [],
   "source": [
    "# TODO: Map Headers To English\n",
    "# TODO: Enforce Expected Data Types\n",
    "\n",
    "data = dd.read_csv(filepath_glob_expression, sep=\";\").compute()"
   ]
  },
  {
   "cell_type": "code",
   "execution_count": 5,
   "metadata": {},
   "outputs": [
    {
     "output_type": "execute_result",
     "data": {
      "text/plain": [
       "   Run Fondo         Nombre Fondo FFM_6020100                   FFM_6020200  \\\n",
       "0       8032  BICE EST BALANCEADA         EPI  WISDOM TREE INDIA EARNINGS I   \n",
       "1       8032  BICE EST BALANCEADA         SPY           SPDR TRUST SERIES I   \n",
       "2       8032  BICE EST BALANCEADA         SPY           SPDR TRUST SERIES I   \n",
       "3       8032  BICE EST BALANCEADA         VCR     VANGUARD CONSUMER DISCRET   \n",
       "4       8032  BICE EST BALANCEADA         VFH       VANGUARD FINANCIALS ETF   \n",
       "\n",
       "  FFM_6020300 FFM_6020400 FFM_6020500  FFM_6020600 FFM_6020700 FFM_6020800  \\\n",
       "0          US        ETFA         NaN            1         NaN    GRUPO 99   \n",
       "1          US        ETFA         NaN            1         NaN    GRUPO 99   \n",
       "2          US        ETFA         NaN            1         NaN    GRUPO 99   \n",
       "3          US        ETFA         NaN            1         NaN    GRUPO 99   \n",
       "4          US        ETFA         NaN            1         NaN    GRUPO 99   \n",
       "\n",
       "   ...  FFM_rel_6021111 FFM_6021112  FFM_6021113  FFM_6021114  FFM_6021200  \\\n",
       "0  ...         14821.10           3            0          NaN       136339   \n",
       "1  ...        126058.38           3            0          NaN      4279430   \n",
       "2  ...        126058.38           3            0          NaN       315146   \n",
       "3  ...         71583.72           3            0          NaN       575533   \n",
       "4  ...         29680.13           3            0          NaN       504414   \n",
       "\n",
       "   FFM_6021300  FFM_6021400 FFM_6021511  FFM_6021512 FFM_6021513  \n",
       "0         PROM           US         0.0          0.0       0.454  \n",
       "1         PROM           US         0.0          0.0      14.243  \n",
       "2         PROM           US         0.0          0.0       1.049  \n",
       "3         PROM           US         0.0          0.0       1.915  \n",
       "4         PROM           US         0.0          0.0       1.679  \n",
       "\n",
       "[5 rows x 24 columns]"
      ],
      "text/html": "<div>\n<style scoped>\n    .dataframe tbody tr th:only-of-type {\n        vertical-align: middle;\n    }\n\n    .dataframe tbody tr th {\n        vertical-align: top;\n    }\n\n    .dataframe thead th {\n        text-align: right;\n    }\n</style>\n<table border=\"1\" class=\"dataframe\">\n  <thead>\n    <tr style=\"text-align: right;\">\n      <th></th>\n      <th>Run Fondo</th>\n      <th>Nombre Fondo</th>\n      <th>FFM_6020100</th>\n      <th>FFM_6020200</th>\n      <th>FFM_6020300</th>\n      <th>FFM_6020400</th>\n      <th>FFM_6020500</th>\n      <th>FFM_6020600</th>\n      <th>FFM_6020700</th>\n      <th>FFM_6020800</th>\n      <th>...</th>\n      <th>FFM_rel_6021111</th>\n      <th>FFM_6021112</th>\n      <th>FFM_6021113</th>\n      <th>FFM_6021114</th>\n      <th>FFM_6021200</th>\n      <th>FFM_6021300</th>\n      <th>FFM_6021400</th>\n      <th>FFM_6021511</th>\n      <th>FFM_6021512</th>\n      <th>FFM_6021513</th>\n    </tr>\n  </thead>\n  <tbody>\n    <tr>\n      <th>0</th>\n      <td>8032</td>\n      <td>BICE EST BALANCEADA</td>\n      <td>EPI</td>\n      <td>WISDOM TREE INDIA EARNINGS I</td>\n      <td>US</td>\n      <td>ETFA</td>\n      <td>NaN</td>\n      <td>1</td>\n      <td>NaN</td>\n      <td>GRUPO 99</td>\n      <td>...</td>\n      <td>14821.10</td>\n      <td>3</td>\n      <td>0</td>\n      <td>NaN</td>\n      <td>136339</td>\n      <td>PROM</td>\n      <td>US</td>\n      <td>0.0</td>\n      <td>0.0</td>\n      <td>0.454</td>\n    </tr>\n    <tr>\n      <th>1</th>\n      <td>8032</td>\n      <td>BICE EST BALANCEADA</td>\n      <td>SPY</td>\n      <td>SPDR TRUST SERIES I</td>\n      <td>US</td>\n      <td>ETFA</td>\n      <td>NaN</td>\n      <td>1</td>\n      <td>NaN</td>\n      <td>GRUPO 99</td>\n      <td>...</td>\n      <td>126058.38</td>\n      <td>3</td>\n      <td>0</td>\n      <td>NaN</td>\n      <td>4279430</td>\n      <td>PROM</td>\n      <td>US</td>\n      <td>0.0</td>\n      <td>0.0</td>\n      <td>14.243</td>\n    </tr>\n    <tr>\n      <th>2</th>\n      <td>8032</td>\n      <td>BICE EST BALANCEADA</td>\n      <td>SPY</td>\n      <td>SPDR TRUST SERIES I</td>\n      <td>US</td>\n      <td>ETFA</td>\n      <td>NaN</td>\n      <td>1</td>\n      <td>NaN</td>\n      <td>GRUPO 99</td>\n      <td>...</td>\n      <td>126058.38</td>\n      <td>3</td>\n      <td>0</td>\n      <td>NaN</td>\n      <td>315146</td>\n      <td>PROM</td>\n      <td>US</td>\n      <td>0.0</td>\n      <td>0.0</td>\n      <td>1.049</td>\n    </tr>\n    <tr>\n      <th>3</th>\n      <td>8032</td>\n      <td>BICE EST BALANCEADA</td>\n      <td>VCR</td>\n      <td>VANGUARD CONSUMER DISCRET</td>\n      <td>US</td>\n      <td>ETFA</td>\n      <td>NaN</td>\n      <td>1</td>\n      <td>NaN</td>\n      <td>GRUPO 99</td>\n      <td>...</td>\n      <td>71583.72</td>\n      <td>3</td>\n      <td>0</td>\n      <td>NaN</td>\n      <td>575533</td>\n      <td>PROM</td>\n      <td>US</td>\n      <td>0.0</td>\n      <td>0.0</td>\n      <td>1.915</td>\n    </tr>\n    <tr>\n      <th>4</th>\n      <td>8032</td>\n      <td>BICE EST BALANCEADA</td>\n      <td>VFH</td>\n      <td>VANGUARD FINANCIALS ETF</td>\n      <td>US</td>\n      <td>ETFA</td>\n      <td>NaN</td>\n      <td>1</td>\n      <td>NaN</td>\n      <td>GRUPO 99</td>\n      <td>...</td>\n      <td>29680.13</td>\n      <td>3</td>\n      <td>0</td>\n      <td>NaN</td>\n      <td>504414</td>\n      <td>PROM</td>\n      <td>US</td>\n      <td>0.0</td>\n      <td>0.0</td>\n      <td>1.679</td>\n    </tr>\n  </tbody>\n</table>\n<p>5 rows × 24 columns</p>\n</div>"
     },
     "metadata": {},
     "execution_count": 5
    }
   ],
   "source": [
    "data.head()"
   ]
  },
  {
   "cell_type": "code",
   "execution_count": 6,
   "metadata": {},
   "outputs": [
    {
     "output_type": "execute_result",
     "data": {
      "text/plain": [
       "Index(['Run Fondo', 'Nombre Fondo', 'FFM_6020100', 'FFM_6020200',\n",
       "       'FFM_6020300', 'FFM_6020400', 'FFM_6020500', 'FFM_6020600',\n",
       "       'FFM_6020700', 'FFM_6020800', 'FFM_6020900', 'FFM_6021000',\n",
       "       'FFM_tir_6021111', 'FFM_par_6021111', 'FFM_rel_6021111', 'FFM_6021112',\n",
       "       'FFM_6021113', 'FFM_6021114', 'FFM_6021200', 'FFM_6021300',\n",
       "       'FFM_6021400', 'FFM_6021511', 'FFM_6021512', 'FFM_6021513'],\n",
       "      dtype='object')"
      ]
     },
     "metadata": {},
     "execution_count": 6
    }
   ],
   "source": [
    "\n",
    "data.columns"
   ]
  },
  {
   "cell_type": "code",
   "execution_count": 7,
   "metadata": {},
   "outputs": [
    {
     "output_type": "execute_result",
     "data": {
      "text/plain": [
       "(428053, 24)"
      ]
     },
     "metadata": {},
     "execution_count": 7
    }
   ],
   "source": [
    "data.shape"
   ]
  },
  {
   "cell_type": "code",
   "execution_count": 8,
   "metadata": {},
   "outputs": [],
   "source": [
    "data.rename(columns={'Run Fondo': \"Fund Id\",\n",
    "'Nombre Fondo': \"Fund Name\",\n",
    "'FFM_6020100': \"Asset Name\",\n",
    "'FFM_6020200': \"Issuer Name\",\n",
    "'FFM_6020300': \"Country Code\",\n",
    "'FFM_6020400': \"Asset Type\",\n",
    "'FFM_6020500': \"Asset Maturity\",\n",
    "'FFM_6020600': \"Asset Restrictions\",\n",
    "'FFM_6020700': \"Risk Classification\",\n",
    "'FFM_6020800': \"Asset Group Company\",\n",
    "'FFM_6020900': \"Number Of Units\",\n",
    "'FFM_6021000': \"Unit Type\",\n",
    "'FFM_tir_6021111': \"Rate\",\n",
    "'FFM_par_6021111': \"PAR Value\",\n",
    "'FFM_rel_6021111': \"Price\",\n",
    "'FFM_6021112': \"Price Code\",\n",
    "'FFM_6021113': \"Rate Convention In Days\",\n",
    "'FFM_6021114': \"Valuation At End Of Month\",\n",
    "'FFM_6021200': \"Currency Code Of Sale\",\n",
    "'FFM_6021300': \"Transaction Country Code\",\n",
    "'FFM_6021400': \"Percentage Of Holdings Of Total Asset\",\n",
    "'FFM_6021511': \"Percentage Of Issuer Capital\",\n",
    "'FFM_6021512': \"Percentage Of Issuer\",\n",
    "'FFM_6021513': \"Percentage of Asset In Fund\"}, inplace=True)"
   ]
  },
  {
   "cell_type": "code",
   "execution_count": 9,
   "metadata": {},
   "outputs": [
    {
     "output_type": "execute_result",
     "data": {
      "text/plain": [
       "   Fund Id            Fund Name Asset Name                   Issuer Name  \\\n",
       "0     8032  BICE EST BALANCEADA        EPI  WISDOM TREE INDIA EARNINGS I   \n",
       "1     8032  BICE EST BALANCEADA        SPY           SPDR TRUST SERIES I   \n",
       "2     8032  BICE EST BALANCEADA        SPY           SPDR TRUST SERIES I   \n",
       "3     8032  BICE EST BALANCEADA        VCR     VANGUARD CONSUMER DISCRET   \n",
       "4     8032  BICE EST BALANCEADA        VFH       VANGUARD FINANCIALS ETF   \n",
       "\n",
       "  Country Code Asset Type Asset Maturity  Asset Restrictions  \\\n",
       "0           US       ETFA            NaN                   1   \n",
       "1           US       ETFA            NaN                   1   \n",
       "2           US       ETFA            NaN                   1   \n",
       "3           US       ETFA            NaN                   1   \n",
       "4           US       ETFA            NaN                   1   \n",
       "\n",
       "  Risk Classification Asset Group Company  ...      Price Price Code  \\\n",
       "0                 NaN            GRUPO 99  ...   14821.10          3   \n",
       "1                 NaN            GRUPO 99  ...  126058.38          3   \n",
       "2                 NaN            GRUPO 99  ...  126058.38          3   \n",
       "3                 NaN            GRUPO 99  ...   71583.72          3   \n",
       "4                 NaN            GRUPO 99  ...   29680.13          3   \n",
       "\n",
       "   Rate Convention In Days  Valuation At End Of Month  Currency Code Of Sale  \\\n",
       "0                        0                        NaN                 136339   \n",
       "1                        0                        NaN                4279430   \n",
       "2                        0                        NaN                 315146   \n",
       "3                        0                        NaN                 575533   \n",
       "4                        0                        NaN                 504414   \n",
       "\n",
       "   Transaction Country Code  Percentage Of Holdings Of Total Asset  \\\n",
       "0                      PROM                                     US   \n",
       "1                      PROM                                     US   \n",
       "2                      PROM                                     US   \n",
       "3                      PROM                                     US   \n",
       "4                      PROM                                     US   \n",
       "\n",
       "  Percentage Of Issuer Capital  Percentage Of Issuer  \\\n",
       "0                          0.0                   0.0   \n",
       "1                          0.0                   0.0   \n",
       "2                          0.0                   0.0   \n",
       "3                          0.0                   0.0   \n",
       "4                          0.0                   0.0   \n",
       "\n",
       "  Percentage of Asset In Fund  \n",
       "0                       0.454  \n",
       "1                      14.243  \n",
       "2                       1.049  \n",
       "3                       1.915  \n",
       "4                       1.679  \n",
       "\n",
       "[5 rows x 24 columns]"
      ],
      "text/html": "<div>\n<style scoped>\n    .dataframe tbody tr th:only-of-type {\n        vertical-align: middle;\n    }\n\n    .dataframe tbody tr th {\n        vertical-align: top;\n    }\n\n    .dataframe thead th {\n        text-align: right;\n    }\n</style>\n<table border=\"1\" class=\"dataframe\">\n  <thead>\n    <tr style=\"text-align: right;\">\n      <th></th>\n      <th>Fund Id</th>\n      <th>Fund Name</th>\n      <th>Asset Name</th>\n      <th>Issuer Name</th>\n      <th>Country Code</th>\n      <th>Asset Type</th>\n      <th>Asset Maturity</th>\n      <th>Asset Restrictions</th>\n      <th>Risk Classification</th>\n      <th>Asset Group Company</th>\n      <th>...</th>\n      <th>Price</th>\n      <th>Price Code</th>\n      <th>Rate Convention In Days</th>\n      <th>Valuation At End Of Month</th>\n      <th>Currency Code Of Sale</th>\n      <th>Transaction Country Code</th>\n      <th>Percentage Of Holdings Of Total Asset</th>\n      <th>Percentage Of Issuer Capital</th>\n      <th>Percentage Of Issuer</th>\n      <th>Percentage of Asset In Fund</th>\n    </tr>\n  </thead>\n  <tbody>\n    <tr>\n      <th>0</th>\n      <td>8032</td>\n      <td>BICE EST BALANCEADA</td>\n      <td>EPI</td>\n      <td>WISDOM TREE INDIA EARNINGS I</td>\n      <td>US</td>\n      <td>ETFA</td>\n      <td>NaN</td>\n      <td>1</td>\n      <td>NaN</td>\n      <td>GRUPO 99</td>\n      <td>...</td>\n      <td>14821.10</td>\n      <td>3</td>\n      <td>0</td>\n      <td>NaN</td>\n      <td>136339</td>\n      <td>PROM</td>\n      <td>US</td>\n      <td>0.0</td>\n      <td>0.0</td>\n      <td>0.454</td>\n    </tr>\n    <tr>\n      <th>1</th>\n      <td>8032</td>\n      <td>BICE EST BALANCEADA</td>\n      <td>SPY</td>\n      <td>SPDR TRUST SERIES I</td>\n      <td>US</td>\n      <td>ETFA</td>\n      <td>NaN</td>\n      <td>1</td>\n      <td>NaN</td>\n      <td>GRUPO 99</td>\n      <td>...</td>\n      <td>126058.38</td>\n      <td>3</td>\n      <td>0</td>\n      <td>NaN</td>\n      <td>4279430</td>\n      <td>PROM</td>\n      <td>US</td>\n      <td>0.0</td>\n      <td>0.0</td>\n      <td>14.243</td>\n    </tr>\n    <tr>\n      <th>2</th>\n      <td>8032</td>\n      <td>BICE EST BALANCEADA</td>\n      <td>SPY</td>\n      <td>SPDR TRUST SERIES I</td>\n      <td>US</td>\n      <td>ETFA</td>\n      <td>NaN</td>\n      <td>1</td>\n      <td>NaN</td>\n      <td>GRUPO 99</td>\n      <td>...</td>\n      <td>126058.38</td>\n      <td>3</td>\n      <td>0</td>\n      <td>NaN</td>\n      <td>315146</td>\n      <td>PROM</td>\n      <td>US</td>\n      <td>0.0</td>\n      <td>0.0</td>\n      <td>1.049</td>\n    </tr>\n    <tr>\n      <th>3</th>\n      <td>8032</td>\n      <td>BICE EST BALANCEADA</td>\n      <td>VCR</td>\n      <td>VANGUARD CONSUMER DISCRET</td>\n      <td>US</td>\n      <td>ETFA</td>\n      <td>NaN</td>\n      <td>1</td>\n      <td>NaN</td>\n      <td>GRUPO 99</td>\n      <td>...</td>\n      <td>71583.72</td>\n      <td>3</td>\n      <td>0</td>\n      <td>NaN</td>\n      <td>575533</td>\n      <td>PROM</td>\n      <td>US</td>\n      <td>0.0</td>\n      <td>0.0</td>\n      <td>1.915</td>\n    </tr>\n    <tr>\n      <th>4</th>\n      <td>8032</td>\n      <td>BICE EST BALANCEADA</td>\n      <td>VFH</td>\n      <td>VANGUARD FINANCIALS ETF</td>\n      <td>US</td>\n      <td>ETFA</td>\n      <td>NaN</td>\n      <td>1</td>\n      <td>NaN</td>\n      <td>GRUPO 99</td>\n      <td>...</td>\n      <td>29680.13</td>\n      <td>3</td>\n      <td>0</td>\n      <td>NaN</td>\n      <td>504414</td>\n      <td>PROM</td>\n      <td>US</td>\n      <td>0.0</td>\n      <td>0.0</td>\n      <td>1.679</td>\n    </tr>\n  </tbody>\n</table>\n<p>5 rows × 24 columns</p>\n</div>"
     },
     "metadata": {},
     "execution_count": 9
    }
   ],
   "source": [
    "\n",
    "data.head()"
   ]
  },
  {
   "cell_type": "code",
   "execution_count": 10,
   "metadata": {},
   "outputs": [],
   "source": [
    "if os.path.exists(parquet_filepath):\n",
    "  os.remove(parquet_filepath)\n",
    "\n",
    "data.to_parquet(parquet_filepath, compression='gzip')"
   ]
  },
  {
   "cell_type": "code",
   "execution_count": 11,
   "metadata": {},
   "outputs": [
    {
     "output_type": "execute_result",
     "data": {
      "text/plain": [
       "      Fund Id             Fund Name         Asset Name  \\\n",
       "0        8032   BICE EST BALANCEADA                EPI   \n",
       "1        8032   BICE EST BALANCEADA                SPY   \n",
       "2        8032   BICE EST BALANCEADA                SPY   \n",
       "3        8032   BICE EST BALANCEADA                VCR   \n",
       "4        8032   BICE EST BALANCEADA                VFH   \n",
       "...       ...                   ...                ...   \n",
       "5260     9961  FM BCI EST. AHORRO 3         FIBRBZ0125   \n",
       "5261     9961  FM BCI EST. AHORRO 3         BCOCPE0929   \n",
       "5262     9961  FM BCI EST. AHORRO 3          BSMXB0425   \n",
       "5263     9987    ESG EMERGING STARS  NEMSBIU LX EQUITY   \n",
       "5264     9988    ESG GLOBAL CREDITS  RGSDGIH LX EQUITY   \n",
       "\n",
       "                         Issuer Name Country Code Asset Type Asset Maturity  \\\n",
       "0       WISDOM TREE INDIA EARNINGS I           US       ETFA           None   \n",
       "1                SPDR TRUST SERIES I           US       ETFA           None   \n",
       "2                SPDR TRUST SERIES I           US       ETFA           None   \n",
       "3          VANGUARD CONSUMER DISCRET           US       ETFA           None   \n",
       "4            VANGUARD FINANCIALS ETF           US       ETFA           None   \n",
       "...                              ...          ...        ...            ...   \n",
       "5260         FIBRIA OVERSEAS FINANCE           BR       BBFE     14/01/2025   \n",
       "5261          BANCO CONTINENTAL S.A.           PE       BBFE     22/09/2029   \n",
       "5262          BANCO SANTANDER MEXICO           MX       BBFE     17/04/2025   \n",
       "5263  NORDEA 1 SICAV - EMERGING STAR           LU       CFME           None   \n",
       "5264    REBECOSAM GLOBAL SDG CREDITS           LU       CFME           None   \n",
       "\n",
       "      Asset Restrictions Risk Classification Asset Group Company  ...  \\\n",
       "0                      1                None            GRUPO 99  ...   \n",
       "1                      1                None            GRUPO 99  ...   \n",
       "2                      1                None            GRUPO 99  ...   \n",
       "3                      1                None            GRUPO 99  ...   \n",
       "4                      1                None            GRUPO 99  ...   \n",
       "...                  ...                 ...                 ...  ...   \n",
       "5260                   1                 BBB                None  ...   \n",
       "5261                   1                 BBB                None  ...   \n",
       "5262                   1                 BBB                None  ...   \n",
       "5263                   1                None                None  ...   \n",
       "5264                   1                None                None  ...   \n",
       "\n",
       "          Price Price Code  Rate Convention In Days  \\\n",
       "0      14821.10          3                        0   \n",
       "1     126058.38          3                        0   \n",
       "2     126058.38          3                        0   \n",
       "3      71583.72          3                        0   \n",
       "4      29680.13          3                        0   \n",
       "...         ...        ...                      ...   \n",
       "5260        NaN          1                      360   \n",
       "5261        NaN          1                      360   \n",
       "5262        NaN          1                      360   \n",
       "5263  160609.97          3                        0   \n",
       "5264   91621.81          3                        0   \n",
       "\n",
       "      Valuation At End Of Month  Currency Code Of Sale  \\\n",
       "0                          None                 136339   \n",
       "1                          None                4279430   \n",
       "2                          None                 315146   \n",
       "3                          None                 575533   \n",
       "4                          None                 504414   \n",
       "...                         ...                    ...   \n",
       "5260                         NC                 398082   \n",
       "5261                         NC                 660374   \n",
       "5262                         NC                1108197   \n",
       "5263                       None                1677109   \n",
       "5264                       None                2582949   \n",
       "\n",
       "      Transaction Country Code  Percentage Of Holdings Of Total Asset  \\\n",
       "0                         PROM                                     US   \n",
       "1                         PROM                                     US   \n",
       "2                         PROM                                     US   \n",
       "3                         PROM                                     US   \n",
       "4                         PROM                                     US   \n",
       "...                        ...                                    ...   \n",
       "5260                      PROM                                     US   \n",
       "5261                      PROM                                     US   \n",
       "5262                      PROM                                     US   \n",
       "5263                        CU                                     LU   \n",
       "5264                        CU                                     LU   \n",
       "\n",
       "     Percentage Of Issuer Capital  Percentage Of Issuer  \\\n",
       "0                             0.0                   0.0   \n",
       "1                             0.0                   0.0   \n",
       "2                             0.0                   0.0   \n",
       "3                             0.0                   0.0   \n",
       "4                             0.0                   0.0   \n",
       "...                           ...                   ...   \n",
       "5260                          0.0                   0.0   \n",
       "5261                          0.0                   0.0   \n",
       "5262                          0.0                   0.0   \n",
       "5263                          0.0                   0.0   \n",
       "5264                          0.0                   0.0   \n",
       "\n",
       "     Percentage of Asset In Fund  \n",
       "0                          0.454  \n",
       "1                         14.243  \n",
       "2                          1.049  \n",
       "3                          1.915  \n",
       "4                          1.679  \n",
       "...                          ...  \n",
       "5260                       3.557  \n",
       "5261                       5.901  \n",
       "5262                       9.902  \n",
       "5263                      98.044  \n",
       "5264                      98.069  \n",
       "\n",
       "[428053 rows x 24 columns]"
      ],
      "text/html": "<div>\n<style scoped>\n    .dataframe tbody tr th:only-of-type {\n        vertical-align: middle;\n    }\n\n    .dataframe tbody tr th {\n        vertical-align: top;\n    }\n\n    .dataframe thead th {\n        text-align: right;\n    }\n</style>\n<table border=\"1\" class=\"dataframe\">\n  <thead>\n    <tr style=\"text-align: right;\">\n      <th></th>\n      <th>Fund Id</th>\n      <th>Fund Name</th>\n      <th>Asset Name</th>\n      <th>Issuer Name</th>\n      <th>Country Code</th>\n      <th>Asset Type</th>\n      <th>Asset Maturity</th>\n      <th>Asset Restrictions</th>\n      <th>Risk Classification</th>\n      <th>Asset Group Company</th>\n      <th>...</th>\n      <th>Price</th>\n      <th>Price Code</th>\n      <th>Rate Convention In Days</th>\n      <th>Valuation At End Of Month</th>\n      <th>Currency Code Of Sale</th>\n      <th>Transaction Country Code</th>\n      <th>Percentage Of Holdings Of Total Asset</th>\n      <th>Percentage Of Issuer Capital</th>\n      <th>Percentage Of Issuer</th>\n      <th>Percentage of Asset In Fund</th>\n    </tr>\n  </thead>\n  <tbody>\n    <tr>\n      <th>0</th>\n      <td>8032</td>\n      <td>BICE EST BALANCEADA</td>\n      <td>EPI</td>\n      <td>WISDOM TREE INDIA EARNINGS I</td>\n      <td>US</td>\n      <td>ETFA</td>\n      <td>None</td>\n      <td>1</td>\n      <td>None</td>\n      <td>GRUPO 99</td>\n      <td>...</td>\n      <td>14821.10</td>\n      <td>3</td>\n      <td>0</td>\n      <td>None</td>\n      <td>136339</td>\n      <td>PROM</td>\n      <td>US</td>\n      <td>0.0</td>\n      <td>0.0</td>\n      <td>0.454</td>\n    </tr>\n    <tr>\n      <th>1</th>\n      <td>8032</td>\n      <td>BICE EST BALANCEADA</td>\n      <td>SPY</td>\n      <td>SPDR TRUST SERIES I</td>\n      <td>US</td>\n      <td>ETFA</td>\n      <td>None</td>\n      <td>1</td>\n      <td>None</td>\n      <td>GRUPO 99</td>\n      <td>...</td>\n      <td>126058.38</td>\n      <td>3</td>\n      <td>0</td>\n      <td>None</td>\n      <td>4279430</td>\n      <td>PROM</td>\n      <td>US</td>\n      <td>0.0</td>\n      <td>0.0</td>\n      <td>14.243</td>\n    </tr>\n    <tr>\n      <th>2</th>\n      <td>8032</td>\n      <td>BICE EST BALANCEADA</td>\n      <td>SPY</td>\n      <td>SPDR TRUST SERIES I</td>\n      <td>US</td>\n      <td>ETFA</td>\n      <td>None</td>\n      <td>1</td>\n      <td>None</td>\n      <td>GRUPO 99</td>\n      <td>...</td>\n      <td>126058.38</td>\n      <td>3</td>\n      <td>0</td>\n      <td>None</td>\n      <td>315146</td>\n      <td>PROM</td>\n      <td>US</td>\n      <td>0.0</td>\n      <td>0.0</td>\n      <td>1.049</td>\n    </tr>\n    <tr>\n      <th>3</th>\n      <td>8032</td>\n      <td>BICE EST BALANCEADA</td>\n      <td>VCR</td>\n      <td>VANGUARD CONSUMER DISCRET</td>\n      <td>US</td>\n      <td>ETFA</td>\n      <td>None</td>\n      <td>1</td>\n      <td>None</td>\n      <td>GRUPO 99</td>\n      <td>...</td>\n      <td>71583.72</td>\n      <td>3</td>\n      <td>0</td>\n      <td>None</td>\n      <td>575533</td>\n      <td>PROM</td>\n      <td>US</td>\n      <td>0.0</td>\n      <td>0.0</td>\n      <td>1.915</td>\n    </tr>\n    <tr>\n      <th>4</th>\n      <td>8032</td>\n      <td>BICE EST BALANCEADA</td>\n      <td>VFH</td>\n      <td>VANGUARD FINANCIALS ETF</td>\n      <td>US</td>\n      <td>ETFA</td>\n      <td>None</td>\n      <td>1</td>\n      <td>None</td>\n      <td>GRUPO 99</td>\n      <td>...</td>\n      <td>29680.13</td>\n      <td>3</td>\n      <td>0</td>\n      <td>None</td>\n      <td>504414</td>\n      <td>PROM</td>\n      <td>US</td>\n      <td>0.0</td>\n      <td>0.0</td>\n      <td>1.679</td>\n    </tr>\n    <tr>\n      <th>...</th>\n      <td>...</td>\n      <td>...</td>\n      <td>...</td>\n      <td>...</td>\n      <td>...</td>\n      <td>...</td>\n      <td>...</td>\n      <td>...</td>\n      <td>...</td>\n      <td>...</td>\n      <td>...</td>\n      <td>...</td>\n      <td>...</td>\n      <td>...</td>\n      <td>...</td>\n      <td>...</td>\n      <td>...</td>\n      <td>...</td>\n      <td>...</td>\n      <td>...</td>\n      <td>...</td>\n    </tr>\n    <tr>\n      <th>5260</th>\n      <td>9961</td>\n      <td>FM BCI EST. AHORRO 3</td>\n      <td>FIBRBZ0125</td>\n      <td>FIBRIA OVERSEAS FINANCE</td>\n      <td>BR</td>\n      <td>BBFE</td>\n      <td>14/01/2025</td>\n      <td>1</td>\n      <td>BBB</td>\n      <td>None</td>\n      <td>...</td>\n      <td>NaN</td>\n      <td>1</td>\n      <td>360</td>\n      <td>NC</td>\n      <td>398082</td>\n      <td>PROM</td>\n      <td>US</td>\n      <td>0.0</td>\n      <td>0.0</td>\n      <td>3.557</td>\n    </tr>\n    <tr>\n      <th>5261</th>\n      <td>9961</td>\n      <td>FM BCI EST. AHORRO 3</td>\n      <td>BCOCPE0929</td>\n      <td>BANCO CONTINENTAL S.A.</td>\n      <td>PE</td>\n      <td>BBFE</td>\n      <td>22/09/2029</td>\n      <td>1</td>\n      <td>BBB</td>\n      <td>None</td>\n      <td>...</td>\n      <td>NaN</td>\n      <td>1</td>\n      <td>360</td>\n      <td>NC</td>\n      <td>660374</td>\n      <td>PROM</td>\n      <td>US</td>\n      <td>0.0</td>\n      <td>0.0</td>\n      <td>5.901</td>\n    </tr>\n    <tr>\n      <th>5262</th>\n      <td>9961</td>\n      <td>FM BCI EST. AHORRO 3</td>\n      <td>BSMXB0425</td>\n      <td>BANCO SANTANDER MEXICO</td>\n      <td>MX</td>\n      <td>BBFE</td>\n      <td>17/04/2025</td>\n      <td>1</td>\n      <td>BBB</td>\n      <td>None</td>\n      <td>...</td>\n      <td>NaN</td>\n      <td>1</td>\n      <td>360</td>\n      <td>NC</td>\n      <td>1108197</td>\n      <td>PROM</td>\n      <td>US</td>\n      <td>0.0</td>\n      <td>0.0</td>\n      <td>9.902</td>\n    </tr>\n    <tr>\n      <th>5263</th>\n      <td>9987</td>\n      <td>ESG EMERGING STARS</td>\n      <td>NEMSBIU LX EQUITY</td>\n      <td>NORDEA 1 SICAV - EMERGING STAR</td>\n      <td>LU</td>\n      <td>CFME</td>\n      <td>None</td>\n      <td>1</td>\n      <td>None</td>\n      <td>None</td>\n      <td>...</td>\n      <td>160609.97</td>\n      <td>3</td>\n      <td>0</td>\n      <td>None</td>\n      <td>1677109</td>\n      <td>CU</td>\n      <td>LU</td>\n      <td>0.0</td>\n      <td>0.0</td>\n      <td>98.044</td>\n    </tr>\n    <tr>\n      <th>5264</th>\n      <td>9988</td>\n      <td>ESG GLOBAL CREDITS</td>\n      <td>RGSDGIH LX EQUITY</td>\n      <td>REBECOSAM GLOBAL SDG CREDITS</td>\n      <td>LU</td>\n      <td>CFME</td>\n      <td>None</td>\n      <td>1</td>\n      <td>None</td>\n      <td>None</td>\n      <td>...</td>\n      <td>91621.81</td>\n      <td>3</td>\n      <td>0</td>\n      <td>None</td>\n      <td>2582949</td>\n      <td>CU</td>\n      <td>LU</td>\n      <td>0.0</td>\n      <td>0.0</td>\n      <td>98.069</td>\n    </tr>\n  </tbody>\n</table>\n<p>428053 rows × 24 columns</p>\n</div>"
     },
     "metadata": {},
     "execution_count": 11
    }
   ],
   "source": [
    "pd.read_parquet(parquet_filepath)"
   ]
  },
  {
   "cell_type": "code",
   "execution_count": 2,
   "metadata": {},
   "outputs": [
    {
     "output_type": "error",
     "ename": "NameError",
     "evalue": "name 'data' is not defined",
     "traceback": [
      "\u001b[0;31m---------------------------------------------------------------------------\u001b[0m",
      "\u001b[0;31mNameError\u001b[0m                                 Traceback (most recent call last)",
      "\u001b[0;32m<ipython-input-2-ab0a5b0d7958>\u001b[0m in \u001b[0;36m<module>\u001b[0;34m\u001b[0m\n\u001b[0;32m----> 1\u001b[0;31m \u001b[0mdata\u001b[0m\u001b[0;34m.\u001b[0m\u001b[0mdtype\u001b[0m\u001b[0;34m\u001b[0m\u001b[0;34m\u001b[0m\u001b[0m\n\u001b[0m",
      "\u001b[0;31mNameError\u001b[0m: name 'data' is not defined"
     ]
    }
   ],
   "source": [
    "data.dtype"
   ]
  },
  {
   "cell_type": "code",
   "execution_count": null,
   "metadata": {},
   "outputs": [],
   "source": []
  }
 ]
}