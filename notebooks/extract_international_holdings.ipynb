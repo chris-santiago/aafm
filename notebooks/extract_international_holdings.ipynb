{
 "metadata": {
  "language_info": {
   "codemirror_mode": {
    "name": "ipython",
    "version": 3
   },
   "file_extension": ".py",
   "mimetype": "text/x-python",
   "name": "python",
   "nbconvert_exporter": "python",
   "pygments_lexer": "ipython3",
   "version": "3.8.8-final"
  },
  "orig_nbformat": 2,
  "kernelspec": {
   "name": "python3",
   "display_name": "Python 3.8.8 64-bit",
   "metadata": {
    "interpreter": {
     "hash": "4cd7ab41f5fca4b9b44701077e38c5ffd31fe66a6cab21e0214b68d958d0e462"
    }
   }
  }
 },
 "nbformat": 4,
 "nbformat_minor": 2,
 "cells": [
  {
   "cell_type": "code",
   "execution_count": 1,
   "metadata": {},
   "outputs": [],
   "source": [
    "import pandas as pd\n",
    "import dask.dataframe as dd\n",
    "from dask.diagnostics import ProgressBar\n",
    "import glob"
   ]
  },
  {
   "cell_type": "code",
   "execution_count": 2,
   "metadata": {},
   "outputs": [],
   "source": [
    "# Globals\n",
    "\n",
    "filepath_glob_expression = \"../data/raw/international_holdings/*.txt\"\n",
    "parquet_filepath = \"../data/international_holdings.parq\"\n",
    "files = glob.glob(filepath_glob_expression)\n"
   ]
  },
  {
   "cell_type": "code",
   "execution_count": 3,
   "metadata": {},
   "outputs": [],
   "source": [
    "all_shapes = []\n",
    "all_columns = []\n",
    "for file in files:\n",
    "    tmp = pd.read_csv(file, nrows=10, sep=',')\n",
    "    all_shapes.append(tmp.shape)\n",
    "    all_columns.append(tmp.columns)\n",
    "assert all([x == all_shapes[0] for x in all_shapes])\n",
    "assert all([all(x) == all(all_columns[0]) for x in all_columns])"
   ]
  },
  {
   "cell_type": "code",
   "execution_count": 4,
   "metadata": {},
   "outputs": [],
   "source": [
    "# TODO: Map Headers To English\n",
    "# TODO: Enforce Expected Data Types\n",
    "\n",
    "data = dd.read_csv(filepath_glob_expression, sep=\";\")"
   ]
  },
  {
   "cell_type": "code",
   "execution_count": 5,
   "metadata": {},
   "outputs": [
    {
     "output_type": "execute_result",
     "data": {
      "text/plain": [
       "   Run Fondo         Nombre Fondo FFM_6020100                   FFM_6020200  \\\n",
       "0       8032  BICE EST BALANCEADA         EPI  WISDOM TREE INDIA EARNINGS I   \n",
       "1       8032  BICE EST BALANCEADA         SPY           SPDR TRUST SERIES I   \n",
       "2       8032  BICE EST BALANCEADA         SPY           SPDR TRUST SERIES I   \n",
       "3       8032  BICE EST BALANCEADA         VCR     VANGUARD CONSUMER DISCRET   \n",
       "4       8032  BICE EST BALANCEADA         VFH       VANGUARD FINANCIALS ETF   \n",
       "\n",
       "  FFM_6020300 FFM_6020400 FFM_6020500  FFM_6020600 FFM_6020700 FFM_6020800  \\\n",
       "0          US        ETFA         NaN            1         NaN    GRUPO 99   \n",
       "1          US        ETFA         NaN            1         NaN    GRUPO 99   \n",
       "2          US        ETFA         NaN            1         NaN    GRUPO 99   \n",
       "3          US        ETFA         NaN            1         NaN    GRUPO 99   \n",
       "4          US        ETFA         NaN            1         NaN    GRUPO 99   \n",
       "\n",
       "   ...  FFM_rel_6021111 FFM_6021112  FFM_6021113  FFM_6021114  FFM_6021200  \\\n",
       "0  ...         14821.10           3            0          NaN       136339   \n",
       "1  ...        126058.38           3            0          NaN      4279430   \n",
       "2  ...        126058.38           3            0          NaN       315146   \n",
       "3  ...         71583.72           3            0          NaN       575533   \n",
       "4  ...         29680.13           3            0          NaN       504414   \n",
       "\n",
       "   FFM_6021300  FFM_6021400 FFM_6021511  FFM_6021512 FFM_6021513  \n",
       "0         PROM           US         0.0          0.0       0.454  \n",
       "1         PROM           US         0.0          0.0      14.243  \n",
       "2         PROM           US         0.0          0.0       1.049  \n",
       "3         PROM           US         0.0          0.0       1.915  \n",
       "4         PROM           US         0.0          0.0       1.679  \n",
       "\n",
       "[5 rows x 24 columns]"
      ],
      "text/html": "<div>\n<style scoped>\n    .dataframe tbody tr th:only-of-type {\n        vertical-align: middle;\n    }\n\n    .dataframe tbody tr th {\n        vertical-align: top;\n    }\n\n    .dataframe thead th {\n        text-align: right;\n    }\n</style>\n<table border=\"1\" class=\"dataframe\">\n  <thead>\n    <tr style=\"text-align: right;\">\n      <th></th>\n      <th>Run Fondo</th>\n      <th>Nombre Fondo</th>\n      <th>FFM_6020100</th>\n      <th>FFM_6020200</th>\n      <th>FFM_6020300</th>\n      <th>FFM_6020400</th>\n      <th>FFM_6020500</th>\n      <th>FFM_6020600</th>\n      <th>FFM_6020700</th>\n      <th>FFM_6020800</th>\n      <th>...</th>\n      <th>FFM_rel_6021111</th>\n      <th>FFM_6021112</th>\n      <th>FFM_6021113</th>\n      <th>FFM_6021114</th>\n      <th>FFM_6021200</th>\n      <th>FFM_6021300</th>\n      <th>FFM_6021400</th>\n      <th>FFM_6021511</th>\n      <th>FFM_6021512</th>\n      <th>FFM_6021513</th>\n    </tr>\n  </thead>\n  <tbody>\n    <tr>\n      <th>0</th>\n      <td>8032</td>\n      <td>BICE EST BALANCEADA</td>\n      <td>EPI</td>\n      <td>WISDOM TREE INDIA EARNINGS I</td>\n      <td>US</td>\n      <td>ETFA</td>\n      <td>NaN</td>\n      <td>1</td>\n      <td>NaN</td>\n      <td>GRUPO 99</td>\n      <td>...</td>\n      <td>14821.10</td>\n      <td>3</td>\n      <td>0</td>\n      <td>NaN</td>\n      <td>136339</td>\n      <td>PROM</td>\n      <td>US</td>\n      <td>0.0</td>\n      <td>0.0</td>\n      <td>0.454</td>\n    </tr>\n    <tr>\n      <th>1</th>\n      <td>8032</td>\n      <td>BICE EST BALANCEADA</td>\n      <td>SPY</td>\n      <td>SPDR TRUST SERIES I</td>\n      <td>US</td>\n      <td>ETFA</td>\n      <td>NaN</td>\n      <td>1</td>\n      <td>NaN</td>\n      <td>GRUPO 99</td>\n      <td>...</td>\n      <td>126058.38</td>\n      <td>3</td>\n      <td>0</td>\n      <td>NaN</td>\n      <td>4279430</td>\n      <td>PROM</td>\n      <td>US</td>\n      <td>0.0</td>\n      <td>0.0</td>\n      <td>14.243</td>\n    </tr>\n    <tr>\n      <th>2</th>\n      <td>8032</td>\n      <td>BICE EST BALANCEADA</td>\n      <td>SPY</td>\n      <td>SPDR TRUST SERIES I</td>\n      <td>US</td>\n      <td>ETFA</td>\n      <td>NaN</td>\n      <td>1</td>\n      <td>NaN</td>\n      <td>GRUPO 99</td>\n      <td>...</td>\n      <td>126058.38</td>\n      <td>3</td>\n      <td>0</td>\n      <td>NaN</td>\n      <td>315146</td>\n      <td>PROM</td>\n      <td>US</td>\n      <td>0.0</td>\n      <td>0.0</td>\n      <td>1.049</td>\n    </tr>\n    <tr>\n      <th>3</th>\n      <td>8032</td>\n      <td>BICE EST BALANCEADA</td>\n      <td>VCR</td>\n      <td>VANGUARD CONSUMER DISCRET</td>\n      <td>US</td>\n      <td>ETFA</td>\n      <td>NaN</td>\n      <td>1</td>\n      <td>NaN</td>\n      <td>GRUPO 99</td>\n      <td>...</td>\n      <td>71583.72</td>\n      <td>3</td>\n      <td>0</td>\n      <td>NaN</td>\n      <td>575533</td>\n      <td>PROM</td>\n      <td>US</td>\n      <td>0.0</td>\n      <td>0.0</td>\n      <td>1.915</td>\n    </tr>\n    <tr>\n      <th>4</th>\n      <td>8032</td>\n      <td>BICE EST BALANCEADA</td>\n      <td>VFH</td>\n      <td>VANGUARD FINANCIALS ETF</td>\n      <td>US</td>\n      <td>ETFA</td>\n      <td>NaN</td>\n      <td>1</td>\n      <td>NaN</td>\n      <td>GRUPO 99</td>\n      <td>...</td>\n      <td>29680.13</td>\n      <td>3</td>\n      <td>0</td>\n      <td>NaN</td>\n      <td>504414</td>\n      <td>PROM</td>\n      <td>US</td>\n      <td>0.0</td>\n      <td>0.0</td>\n      <td>1.679</td>\n    </tr>\n  </tbody>\n</table>\n<p>5 rows × 24 columns</p>\n</div>"
     },
     "metadata": {},
     "execution_count": 5
    }
   ],
   "source": [
    "data.head()"
   ]
  },
  {
   "cell_type": "code",
   "execution_count": 6,
   "metadata": {},
   "outputs": [
    {
     "output_type": "execute_result",
     "data": {
      "text/plain": [
       "Index(['Run Fondo', 'Nombre Fondo', 'FFM_6020100', 'FFM_6020200',\n",
       "       'FFM_6020300', 'FFM_6020400', 'FFM_6020500', 'FFM_6020600',\n",
       "       'FFM_6020700', 'FFM_6020800', 'FFM_6020900', 'FFM_6021000',\n",
       "       'FFM_tir_6021111', 'FFM_par_6021111', 'FFM_rel_6021111', 'FFM_6021112',\n",
       "       'FFM_6021113', 'FFM_6021114', 'FFM_6021200', 'FFM_6021300',\n",
       "       'FFM_6021400', 'FFM_6021511', 'FFM_6021512', 'FFM_6021513'],\n",
       "      dtype='object')"
      ]
     },
     "metadata": {},
     "execution_count": 6
    }
   ],
   "source": [
    "\n",
    "data.columns"
   ]
  },
  {
   "cell_type": "code",
   "execution_count": 7,
   "metadata": {},
   "outputs": [
    {
     "output_type": "stream",
     "name": "stdout",
     "text": [
      "[########################################] | 100% Completed |  3.0s\n"
     ]
    }
   ],
   "source": [
    "# TODO: Fill in  actual projection\n",
    "\n",
    "with ProgressBar():\n",
    "    cols = ['Run Fondo', 'Nombre Fondo', 'FFM_6021513']\n",
    "    sub = data[cols]\n",
    "    price_data = sub.compute()"
   ]
  },
  {
   "cell_type": "code",
   "execution_count": 8,
   "metadata": {},
   "outputs": [
    {
     "output_type": "execute_result",
     "data": {
      "text/plain": [
       "   Run Fondo         Nombre Fondo  FFM_6021513\n",
       "0       8032  BICE EST BALANCEADA        0.454\n",
       "1       8032  BICE EST BALANCEADA       14.243\n",
       "2       8032  BICE EST BALANCEADA        1.049\n",
       "3       8032  BICE EST BALANCEADA        1.915\n",
       "4       8032  BICE EST BALANCEADA        1.679"
      ],
      "text/html": "<div>\n<style scoped>\n    .dataframe tbody tr th:only-of-type {\n        vertical-align: middle;\n    }\n\n    .dataframe tbody tr th {\n        vertical-align: top;\n    }\n\n    .dataframe thead th {\n        text-align: right;\n    }\n</style>\n<table border=\"1\" class=\"dataframe\">\n  <thead>\n    <tr style=\"text-align: right;\">\n      <th></th>\n      <th>Run Fondo</th>\n      <th>Nombre Fondo</th>\n      <th>FFM_6021513</th>\n    </tr>\n  </thead>\n  <tbody>\n    <tr>\n      <th>0</th>\n      <td>8032</td>\n      <td>BICE EST BALANCEADA</td>\n      <td>0.454</td>\n    </tr>\n    <tr>\n      <th>1</th>\n      <td>8032</td>\n      <td>BICE EST BALANCEADA</td>\n      <td>14.243</td>\n    </tr>\n    <tr>\n      <th>2</th>\n      <td>8032</td>\n      <td>BICE EST BALANCEADA</td>\n      <td>1.049</td>\n    </tr>\n    <tr>\n      <th>3</th>\n      <td>8032</td>\n      <td>BICE EST BALANCEADA</td>\n      <td>1.915</td>\n    </tr>\n    <tr>\n      <th>4</th>\n      <td>8032</td>\n      <td>BICE EST BALANCEADA</td>\n      <td>1.679</td>\n    </tr>\n  </tbody>\n</table>\n</div>"
     },
     "metadata": {},
     "execution_count": 8
    }
   ],
   "source": [
    "price_data.head()"
   ]
  },
  {
   "cell_type": "code",
   "execution_count": 9,
   "metadata": {},
   "outputs": [
    {
     "output_type": "execute_result",
     "data": {
      "text/plain": [
       "(428053, 3)"
      ]
     },
     "metadata": {},
     "execution_count": 9
    }
   ],
   "source": [
    "\n",
    "price_data.shape"
   ]
  },
  {
   "cell_type": "code",
   "execution_count": 10,
   "metadata": {},
   "outputs": [],
   "source": [
    "price_data.to_parquet(parquet_filepath, compression='gzip')"
   ]
  }
 ]
}