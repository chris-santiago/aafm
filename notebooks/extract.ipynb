{
 "cells": [
  {
   "cell_type": "code",
   "execution_count": 1,
   "metadata": {},
   "outputs": [],
   "source": [
    "import pandas as pd\n",
    "import dask.dataframe as dd\n",
    "from dask.diagnostics import ProgressBar\n",
    "import glob"
   ]
  },
  {
   "cell_type": "code",
   "execution_count": 2,
   "metadata": {},
   "outputs": [],
   "source": [
    "files = glob.glob('../data/raw/*.csv')\n",
    "all_shapes = []\n",
    "all_columns = []\n",
    "for file in files:\n",
    "    tmp = pd.read_csv(file, nrows=10)\n",
    "    all_shapes.append(tmp.shape)\n",
    "    all_columns.append(tmp.columns)\n",
    "assert all([x == all_shapes[0] for x in all_shapes])\n",
    "assert all([all(x) == all(all_columns[0]) for x in all_columns])"
   ]
  },
  {
   "cell_type": "code",
   "execution_count": 3,
   "metadata": {},
   "outputs": [],
   "source": [
    "data = dd.read_csv('../data/raw/*.csv', parse_dates=['fecha'])"
   ]
  },
  {
   "cell_type": "code",
   "execution_count": 4,
   "metadata": {},
   "outputs": [
    {
     "data": {
      "text/html": [
       "<div>\n",
       "<style scoped>\n",
       "    .dataframe tbody tr th:only-of-type {\n",
       "        vertical-align: middle;\n",
       "    }\n",
       "\n",
       "    .dataframe tbody tr th {\n",
       "        vertical-align: top;\n",
       "    }\n",
       "\n",
       "    .dataframe thead th {\n",
       "        text-align: right;\n",
       "    }\n",
       "</style>\n",
       "<table border=\"1\" class=\"dataframe\">\n",
       "  <thead>\n",
       "    <tr style=\"text-align: right;\">\n",
       "      <th></th>\n",
       "      <th>Unnamed: 0</th>\n",
       "      <th>administratorName</th>\n",
       "      <th>fundRUN</th>\n",
       "      <th>fundName</th>\n",
       "      <th>fundSeries</th>\n",
       "      <th>netPatrimony</th>\n",
       "      <th>efectivePatrimony</th>\n",
       "      <th>installmentsInCirculation</th>\n",
       "      <th>providedInstallments</th>\n",
       "      <th>providedFlow</th>\n",
       "      <th>...</th>\n",
       "      <th>currency</th>\n",
       "      <th>bloombergCode</th>\n",
       "      <th>pensionFunds</th>\n",
       "      <th>fixedRemuneration</th>\n",
       "      <th>variableRemuneration</th>\n",
       "      <th>affectedExpenses</th>\n",
       "      <th>unaffectedExpenses</th>\n",
       "      <th>investmentCommission</th>\n",
       "      <th>rescuedCommission</th>\n",
       "      <th>fecha</th>\n",
       "    </tr>\n",
       "  </thead>\n",
       "  <tbody>\n",
       "    <tr>\n",
       "      <th>0</th>\n",
       "      <td>0</td>\n",
       "      <td>BANCHILE</td>\n",
       "      <td>8001-2</td>\n",
       "      <td>CAPITALISA-ACC</td>\n",
       "      <td>A</td>\n",
       "      <td>2.020235e+09</td>\n",
       "      <td>2.020236e+09</td>\n",
       "      <td>5.877039e+06</td>\n",
       "      <td>0.0</td>\n",
       "      <td>0.0</td>\n",
       "      <td>...</td>\n",
       "      <td>P</td>\n",
       "      <td>BCHCAPT CI</td>\n",
       "      <td>N</td>\n",
       "      <td>346510.0</td>\n",
       "      <td>0.0</td>\n",
       "      <td>0.0</td>\n",
       "      <td>0.0</td>\n",
       "      <td>0.0</td>\n",
       "      <td>0.0</td>\n",
       "      <td>2015-01-01</td>\n",
       "    </tr>\n",
       "    <tr>\n",
       "      <th>1</th>\n",
       "      <td>1</td>\n",
       "      <td>BANCHILE</td>\n",
       "      <td>8001-2</td>\n",
       "      <td>CAPITALISA-ACC</td>\n",
       "      <td>B</td>\n",
       "      <td>5.290941e+07</td>\n",
       "      <td>5.290940e+07</td>\n",
       "      <td>1.156186e+05</td>\n",
       "      <td>0.0</td>\n",
       "      <td>0.0</td>\n",
       "      <td>...</td>\n",
       "      <td>P</td>\n",
       "      <td>BCHCACB CI</td>\n",
       "      <td>N</td>\n",
       "      <td>2899.0</td>\n",
       "      <td>0.0</td>\n",
       "      <td>0.0</td>\n",
       "      <td>0.0</td>\n",
       "      <td>0.0</td>\n",
       "      <td>0.0</td>\n",
       "      <td>2015-01-01</td>\n",
       "    </tr>\n",
       "    <tr>\n",
       "      <th>2</th>\n",
       "      <td>2</td>\n",
       "      <td>BANCHILE</td>\n",
       "      <td>8001-2</td>\n",
       "      <td>CAPITALISA-ACC</td>\n",
       "      <td>C</td>\n",
       "      <td>1.822809e+08</td>\n",
       "      <td>1.822809e+08</td>\n",
       "      <td>2.343367e+05</td>\n",
       "      <td>0.0</td>\n",
       "      <td>0.0</td>\n",
       "      <td>...</td>\n",
       "      <td>P</td>\n",
       "      <td>BCHCACC CI</td>\n",
       "      <td>N</td>\n",
       "      <td>14858.0</td>\n",
       "      <td>0.0</td>\n",
       "      <td>0.0</td>\n",
       "      <td>0.0</td>\n",
       "      <td>0.0</td>\n",
       "      <td>0.0</td>\n",
       "      <td>2015-01-01</td>\n",
       "    </tr>\n",
       "    <tr>\n",
       "      <th>3</th>\n",
       "      <td>3</td>\n",
       "      <td>BANCHILE</td>\n",
       "      <td>8001-2</td>\n",
       "      <td>CAPITALISA-ACC</td>\n",
       "      <td>S</td>\n",
       "      <td>0.000000e+00</td>\n",
       "      <td>0.000000e+00</td>\n",
       "      <td>0.000000e+00</td>\n",
       "      <td>0.0</td>\n",
       "      <td>0.0</td>\n",
       "      <td>...</td>\n",
       "      <td>P</td>\n",
       "      <td>BCHCACS CI</td>\n",
       "      <td>N</td>\n",
       "      <td>0.0</td>\n",
       "      <td>0.0</td>\n",
       "      <td>0.0</td>\n",
       "      <td>0.0</td>\n",
       "      <td>0.0</td>\n",
       "      <td>0.0</td>\n",
       "      <td>2015-01-01</td>\n",
       "    </tr>\n",
       "    <tr>\n",
       "      <th>4</th>\n",
       "      <td>4</td>\n",
       "      <td>BANCHILE</td>\n",
       "      <td>8023-3</td>\n",
       "      <td>HORIZONTE</td>\n",
       "      <td>A</td>\n",
       "      <td>5.139307e+10</td>\n",
       "      <td>5.141966e+10</td>\n",
       "      <td>1.587761e+06</td>\n",
       "      <td>0.0</td>\n",
       "      <td>0.0</td>\n",
       "      <td>...</td>\n",
       "      <td>P</td>\n",
       "      <td>BCHEMPR CI</td>\n",
       "      <td>N</td>\n",
       "      <td>2347098.0</td>\n",
       "      <td>0.0</td>\n",
       "      <td>0.0</td>\n",
       "      <td>0.0</td>\n",
       "      <td>0.0</td>\n",
       "      <td>5908.0</td>\n",
       "      <td>2015-01-01</td>\n",
       "    </tr>\n",
       "  </tbody>\n",
       "</table>\n",
       "<p>5 rows × 30 columns</p>\n",
       "</div>"
      ],
      "text/plain": [
       "   Unnamed: 0 administratorName fundRUN        fundName fundSeries  \\\n",
       "0           0          BANCHILE  8001-2  CAPITALISA-ACC          A   \n",
       "1           1          BANCHILE  8001-2  CAPITALISA-ACC          B   \n",
       "2           2          BANCHILE  8001-2  CAPITALISA-ACC          C   \n",
       "3           3          BANCHILE  8001-2  CAPITALISA-ACC          S   \n",
       "4           4          BANCHILE  8023-3       HORIZONTE          A   \n",
       "\n",
       "   netPatrimony  efectivePatrimony  installmentsInCirculation  \\\n",
       "0  2.020235e+09       2.020236e+09               5.877039e+06   \n",
       "1  5.290941e+07       5.290940e+07               1.156186e+05   \n",
       "2  1.822809e+08       1.822809e+08               2.343367e+05   \n",
       "3  0.000000e+00       0.000000e+00               0.000000e+00   \n",
       "4  5.139307e+10       5.141966e+10               1.587761e+06   \n",
       "\n",
       "   providedInstallments  providedFlow  ...  currency  bloombergCode  \\\n",
       "0                   0.0           0.0  ...         P     BCHCAPT CI   \n",
       "1                   0.0           0.0  ...         P     BCHCACB CI   \n",
       "2                   0.0           0.0  ...         P     BCHCACC CI   \n",
       "3                   0.0           0.0  ...         P     BCHCACS CI   \n",
       "4                   0.0           0.0  ...         P     BCHEMPR CI   \n",
       "\n",
       "   pensionFunds  fixedRemuneration  variableRemuneration  affectedExpenses  \\\n",
       "0             N           346510.0                   0.0               0.0   \n",
       "1             N             2899.0                   0.0               0.0   \n",
       "2             N            14858.0                   0.0               0.0   \n",
       "3             N                0.0                   0.0               0.0   \n",
       "4             N          2347098.0                   0.0               0.0   \n",
       "\n",
       "  unaffectedExpenses investmentCommission rescuedCommission      fecha  \n",
       "0                0.0                  0.0               0.0 2015-01-01  \n",
       "1                0.0                  0.0               0.0 2015-01-01  \n",
       "2                0.0                  0.0               0.0 2015-01-01  \n",
       "3                0.0                  0.0               0.0 2015-01-01  \n",
       "4                0.0                  0.0            5908.0 2015-01-01  \n",
       "\n",
       "[5 rows x 30 columns]"
      ]
     },
     "execution_count": 4,
     "metadata": {},
     "output_type": "execute_result"
    }
   ],
   "source": [
    "data.head()"
   ]
  },
  {
   "cell_type": "code",
   "execution_count": 5,
   "metadata": {},
   "outputs": [
    {
     "data": {
      "text/plain": [
       "Index(['Unnamed: 0', 'administratorName', 'fundRUN', 'fundName', 'fundSeries',\n",
       "       'netPatrimony', 'efectivePatrimony', 'installmentsInCirculation',\n",
       "       'providedInstallments', 'providedFlow', 'rescuedInstallments',\n",
       "       'rescuedFlow', 'installmentValue', 'totalParticipants',\n",
       "       'institutionalParticipants', 'otherParticipants', 'APV', 'aafmCategory',\n",
       "       'svsCategory', 'svsCategoryId', 'currency', 'bloombergCode',\n",
       "       'pensionFunds', 'fixedRemuneration', 'variableRemuneration',\n",
       "       'affectedExpenses', 'unaffectedExpenses', 'investmentCommission',\n",
       "       'rescuedCommission', 'fecha'],\n",
       "      dtype='object')"
      ]
     },
     "execution_count": 5,
     "metadata": {},
     "output_type": "execute_result"
    }
   ],
   "source": [
    "data.columns"
   ]
  },
  {
   "cell_type": "code",
   "execution_count": 7,
   "metadata": {},
   "outputs": [
    {
     "name": "stdout",
     "output_type": "stream",
     "text": [
      "[########################################] | 100% Completed | 19.0s\n"
     ]
    }
   ],
   "source": [
    "with ProgressBar():\n",
    "    cols = ['fundName', 'fundSeries', 'installmentValue', 'bloombergCode', 'fecha']\n",
    "    sub = data[cols]\n",
    "    price_data = sub.compute()"
   ]
  },
  {
   "cell_type": "code",
   "execution_count": 8,
   "metadata": {
    "tags": []
   },
   "outputs": [
    {
     "data": {
      "text/html": [
       "<div>\n",
       "<style scoped>\n",
       "    .dataframe tbody tr th:only-of-type {\n",
       "        vertical-align: middle;\n",
       "    }\n",
       "\n",
       "    .dataframe tbody tr th {\n",
       "        vertical-align: top;\n",
       "    }\n",
       "\n",
       "    .dataframe thead th {\n",
       "        text-align: right;\n",
       "    }\n",
       "</style>\n",
       "<table border=\"1\" class=\"dataframe\">\n",
       "  <thead>\n",
       "    <tr style=\"text-align: right;\">\n",
       "      <th></th>\n",
       "      <th>fundName</th>\n",
       "      <th>fundSeries</th>\n",
       "      <th>installmentValue</th>\n",
       "      <th>bloombergCode</th>\n",
       "      <th>fecha</th>\n",
       "    </tr>\n",
       "  </thead>\n",
       "  <tbody>\n",
       "    <tr>\n",
       "      <th>0</th>\n",
       "      <td>CAPITALISA-ACC</td>\n",
       "      <td>A</td>\n",
       "      <td>343.7506</td>\n",
       "      <td>BCHCAPT CI</td>\n",
       "      <td>2015-01-01</td>\n",
       "    </tr>\n",
       "    <tr>\n",
       "      <th>1</th>\n",
       "      <td>CAPITALISA-ACC</td>\n",
       "      <td>B</td>\n",
       "      <td>457.6202</td>\n",
       "      <td>BCHCACB CI</td>\n",
       "      <td>2015-01-01</td>\n",
       "    </tr>\n",
       "    <tr>\n",
       "      <th>2</th>\n",
       "      <td>CAPITALISA-ACC</td>\n",
       "      <td>C</td>\n",
       "      <td>777.8586</td>\n",
       "      <td>BCHCACC CI</td>\n",
       "      <td>2015-01-01</td>\n",
       "    </tr>\n",
       "    <tr>\n",
       "      <th>3</th>\n",
       "      <td>CAPITALISA-ACC</td>\n",
       "      <td>S</td>\n",
       "      <td>1000.0000</td>\n",
       "      <td>BCHCACS CI</td>\n",
       "      <td>2015-01-01</td>\n",
       "    </tr>\n",
       "    <tr>\n",
       "      <th>4</th>\n",
       "      <td>HORIZONTE</td>\n",
       "      <td>A</td>\n",
       "      <td>32368.2689</td>\n",
       "      <td>BCHEMPR CI</td>\n",
       "      <td>2015-01-01</td>\n",
       "    </tr>\n",
       "  </tbody>\n",
       "</table>\n",
       "</div>"
      ],
      "text/plain": [
       "         fundName fundSeries  installmentValue bloombergCode      fecha\n",
       "0  CAPITALISA-ACC          A          343.7506    BCHCAPT CI 2015-01-01\n",
       "1  CAPITALISA-ACC          B          457.6202    BCHCACB CI 2015-01-01\n",
       "2  CAPITALISA-ACC          C          777.8586    BCHCACC CI 2015-01-01\n",
       "3  CAPITALISA-ACC          S         1000.0000    BCHCACS CI 2015-01-01\n",
       "4       HORIZONTE          A        32368.2689    BCHEMPR CI 2015-01-01"
      ]
     },
     "execution_count": 8,
     "metadata": {},
     "output_type": "execute_result"
    }
   ],
   "source": [
    "price_data.head()"
   ]
  },
  {
   "cell_type": "code",
   "execution_count": 9,
   "metadata": {},
   "outputs": [
    {
     "data": {
      "text/plain": [
       "(5960032, 5)"
      ]
     },
     "execution_count": 9,
     "metadata": {},
     "output_type": "execute_result"
    }
   ],
   "source": [
    "price_data.shape"
   ]
  },
  {
   "cell_type": "code",
   "execution_count": 11,
   "metadata": {},
   "outputs": [],
   "source": [
    "price_data.to_parquet('../data/fund_prices.parq', compression='gzip')"
   ]
  },
  {
   "cell_type": "code",
   "execution_count": 12,
   "metadata": {},
   "outputs": [
    {
     "name": "stdout",
     "output_type": "stream",
     "text": [
      "[########################################] | 100% Completed | 31.0s\n"
     ]
    }
   ],
   "source": [
    "with ProgressBar():\n",
    "    cols = ['fundRUN', 'fundName', 'fundSeries', 'bloombergCode', 'APV', 'aafmCategory', 'svsCategory',\n",
    "           'svsCategoryId', 'currency', 'fixedRemuneration', 'variableRemuneration', 'investmentCommission',\n",
    "            'rescuedCommission']\n",
    "    sub = data[cols].drop_duplicates()\n",
    "    fund_data = sub.compute()"
   ]
  },
  {
   "cell_type": "code",
   "execution_count": 13,
   "metadata": {},
   "outputs": [
    {
     "data": {
      "text/plain": [
       "(4351557, 13)"
      ]
     },
     "execution_count": 13,
     "metadata": {},
     "output_type": "execute_result"
    }
   ],
   "source": [
    "fund_data.shape"
   ]
  },
  {
   "cell_type": "code",
   "execution_count": 14,
   "metadata": {},
   "outputs": [
    {
     "data": {
      "text/html": [
       "<div>\n",
       "<style scoped>\n",
       "    .dataframe tbody tr th:only-of-type {\n",
       "        vertical-align: middle;\n",
       "    }\n",
       "\n",
       "    .dataframe tbody tr th {\n",
       "        vertical-align: top;\n",
       "    }\n",
       "\n",
       "    .dataframe thead th {\n",
       "        text-align: right;\n",
       "    }\n",
       "</style>\n",
       "<table border=\"1\" class=\"dataframe\">\n",
       "  <thead>\n",
       "    <tr style=\"text-align: right;\">\n",
       "      <th></th>\n",
       "      <th>fundRUN</th>\n",
       "      <th>fundName</th>\n",
       "      <th>fundSeries</th>\n",
       "      <th>bloombergCode</th>\n",
       "      <th>APV</th>\n",
       "      <th>aafmCategory</th>\n",
       "      <th>svsCategory</th>\n",
       "      <th>svsCategoryId</th>\n",
       "      <th>currency</th>\n",
       "      <th>fixedRemuneration</th>\n",
       "      <th>variableRemuneration</th>\n",
       "      <th>investmentCommission</th>\n",
       "      <th>rescuedCommission</th>\n",
       "    </tr>\n",
       "  </thead>\n",
       "  <tbody>\n",
       "    <tr>\n",
       "      <th>0</th>\n",
       "      <td>8001-2</td>\n",
       "      <td>CAPITALISA-ACC</td>\n",
       "      <td>A</td>\n",
       "      <td>BCHCAPT CI</td>\n",
       "      <td>NO</td>\n",
       "      <td>Accionario Nacional Large CAP</td>\n",
       "      <td>FM DE INVERSION EN INSTRUMENTOS DE CAPITALIZACION</td>\n",
       "      <td>5.0</td>\n",
       "      <td>P</td>\n",
       "      <td>346510.0</td>\n",
       "      <td>0.0</td>\n",
       "      <td>0.0</td>\n",
       "      <td>0.0</td>\n",
       "    </tr>\n",
       "    <tr>\n",
       "      <th>1</th>\n",
       "      <td>8001-2</td>\n",
       "      <td>CAPITALISA-ACC</td>\n",
       "      <td>B</td>\n",
       "      <td>BCHCACB CI</td>\n",
       "      <td>SI</td>\n",
       "      <td>Accionario Nacional Large CAP</td>\n",
       "      <td>FM DE INVERSION EN INSTRUMENTOS DE CAPITALIZACION</td>\n",
       "      <td>5.0</td>\n",
       "      <td>P</td>\n",
       "      <td>2899.0</td>\n",
       "      <td>0.0</td>\n",
       "      <td>0.0</td>\n",
       "      <td>0.0</td>\n",
       "    </tr>\n",
       "    <tr>\n",
       "      <th>2</th>\n",
       "      <td>8001-2</td>\n",
       "      <td>CAPITALISA-ACC</td>\n",
       "      <td>C</td>\n",
       "      <td>BCHCACC CI</td>\n",
       "      <td>NO</td>\n",
       "      <td>Accionario Nacional Large CAP</td>\n",
       "      <td>FM DE INVERSION EN INSTRUMENTOS DE CAPITALIZACION</td>\n",
       "      <td>5.0</td>\n",
       "      <td>P</td>\n",
       "      <td>14858.0</td>\n",
       "      <td>0.0</td>\n",
       "      <td>0.0</td>\n",
       "      <td>0.0</td>\n",
       "    </tr>\n",
       "    <tr>\n",
       "      <th>3</th>\n",
       "      <td>8001-2</td>\n",
       "      <td>CAPITALISA-ACC</td>\n",
       "      <td>S</td>\n",
       "      <td>BCHCACS CI</td>\n",
       "      <td>NO</td>\n",
       "      <td>Accionario Nacional Large CAP</td>\n",
       "      <td>FM DE INVERSION EN INSTRUMENTOS DE CAPITALIZACION</td>\n",
       "      <td>5.0</td>\n",
       "      <td>P</td>\n",
       "      <td>0.0</td>\n",
       "      <td>0.0</td>\n",
       "      <td>0.0</td>\n",
       "      <td>0.0</td>\n",
       "    </tr>\n",
       "    <tr>\n",
       "      <th>4</th>\n",
       "      <td>8023-3</td>\n",
       "      <td>HORIZONTE</td>\n",
       "      <td>A</td>\n",
       "      <td>BCHEMPR CI</td>\n",
       "      <td>NO</td>\n",
       "      <td>Fondos de Deuda &gt; 365 Dias Nacional, Inversion...</td>\n",
       "      <td>FM DE INV.EN INST.DE DEUDA DE MEDIANO Y LARGO ...</td>\n",
       "      <td>3.0</td>\n",
       "      <td>P</td>\n",
       "      <td>2347098.0</td>\n",
       "      <td>0.0</td>\n",
       "      <td>0.0</td>\n",
       "      <td>5908.0</td>\n",
       "    </tr>\n",
       "  </tbody>\n",
       "</table>\n",
       "</div>"
      ],
      "text/plain": [
       "  fundRUN        fundName fundSeries bloombergCode APV  \\\n",
       "0  8001-2  CAPITALISA-ACC          A    BCHCAPT CI  NO   \n",
       "1  8001-2  CAPITALISA-ACC          B    BCHCACB CI  SI   \n",
       "2  8001-2  CAPITALISA-ACC          C    BCHCACC CI  NO   \n",
       "3  8001-2  CAPITALISA-ACC          S    BCHCACS CI  NO   \n",
       "4  8023-3       HORIZONTE          A    BCHEMPR CI  NO   \n",
       "\n",
       "                                        aafmCategory  \\\n",
       "0                      Accionario Nacional Large CAP   \n",
       "1                      Accionario Nacional Large CAP   \n",
       "2                      Accionario Nacional Large CAP   \n",
       "3                      Accionario Nacional Large CAP   \n",
       "4  Fondos de Deuda > 365 Dias Nacional, Inversion...   \n",
       "\n",
       "                                         svsCategory  svsCategoryId currency  \\\n",
       "0  FM DE INVERSION EN INSTRUMENTOS DE CAPITALIZACION            5.0        P   \n",
       "1  FM DE INVERSION EN INSTRUMENTOS DE CAPITALIZACION            5.0        P   \n",
       "2  FM DE INVERSION EN INSTRUMENTOS DE CAPITALIZACION            5.0        P   \n",
       "3  FM DE INVERSION EN INSTRUMENTOS DE CAPITALIZACION            5.0        P   \n",
       "4  FM DE INV.EN INST.DE DEUDA DE MEDIANO Y LARGO ...            3.0        P   \n",
       "\n",
       "   fixedRemuneration  variableRemuneration  investmentCommission  \\\n",
       "0           346510.0                   0.0                   0.0   \n",
       "1             2899.0                   0.0                   0.0   \n",
       "2            14858.0                   0.0                   0.0   \n",
       "3                0.0                   0.0                   0.0   \n",
       "4          2347098.0                   0.0                   0.0   \n",
       "\n",
       "   rescuedCommission  \n",
       "0                0.0  \n",
       "1                0.0  \n",
       "2                0.0  \n",
       "3                0.0  \n",
       "4             5908.0  "
      ]
     },
     "execution_count": 14,
     "metadata": {},
     "output_type": "execute_result"
    }
   ],
   "source": [
    "fund_data.head()"
   ]
  },
  {
   "cell_type": "code",
   "execution_count": 15,
   "metadata": {},
   "outputs": [
    {
     "data": {
      "text/plain": [
       "Index(['fundRUN', 'fundName', 'fundSeries', 'bloombergCode', 'APV',\n",
       "       'aafmCategory', 'svsCategory', 'svsCategoryId', 'currency',\n",
       "       'fixedRemuneration', 'variableRemuneration', 'investmentCommission',\n",
       "       'rescuedCommission'],\n",
       "      dtype='object')"
      ]
     },
     "execution_count": 15,
     "metadata": {},
     "output_type": "execute_result"
    }
   ],
   "source": [
    "fund_data.columns"
   ]
  },
  {
   "cell_type": "code",
   "execution_count": 16,
   "metadata": {},
   "outputs": [],
   "source": [
    "fund_data.to_parquet('../data/fund_data.parq', compression='gzip')"
   ]
  },
  {
   "cell_type": "code",
   "execution_count": 17,
   "metadata": {},
   "outputs": [
    {
     "name": "stdout",
     "output_type": "stream",
     "text": [
      "[########################################] | 100% Completed | 17.7s\n"
     ]
    }
   ],
   "source": [
    "with ProgressBar():\n",
    "    cols = ['fundRUN', 'fundName', 'fundSeries', 'bloombergCode', 'netPatrimony', 'providedFlow', 'rescuedFlow', 'fecha']\n",
    "    sub = data[cols]\n",
    "    fund_flows = sub.compute()"
   ]
  },
  {
   "cell_type": "code",
   "execution_count": 18,
   "metadata": {},
   "outputs": [
    {
     "data": {
      "text/plain": [
       "(5960032, 8)"
      ]
     },
     "execution_count": 18,
     "metadata": {},
     "output_type": "execute_result"
    }
   ],
   "source": [
    "fund_flows.shape"
   ]
  },
  {
   "cell_type": "code",
   "execution_count": 19,
   "metadata": {},
   "outputs": [
    {
     "data": {
      "text/html": [
       "<div>\n",
       "<style scoped>\n",
       "    .dataframe tbody tr th:only-of-type {\n",
       "        vertical-align: middle;\n",
       "    }\n",
       "\n",
       "    .dataframe tbody tr th {\n",
       "        vertical-align: top;\n",
       "    }\n",
       "\n",
       "    .dataframe thead th {\n",
       "        text-align: right;\n",
       "    }\n",
       "</style>\n",
       "<table border=\"1\" class=\"dataframe\">\n",
       "  <thead>\n",
       "    <tr style=\"text-align: right;\">\n",
       "      <th></th>\n",
       "      <th>fundRUN</th>\n",
       "      <th>fundName</th>\n",
       "      <th>fundSeries</th>\n",
       "      <th>bloombergCode</th>\n",
       "      <th>netPatrimony</th>\n",
       "      <th>providedFlow</th>\n",
       "      <th>rescuedFlow</th>\n",
       "      <th>fecha</th>\n",
       "    </tr>\n",
       "  </thead>\n",
       "  <tbody>\n",
       "    <tr>\n",
       "      <th>0</th>\n",
       "      <td>8001-2</td>\n",
       "      <td>CAPITALISA-ACC</td>\n",
       "      <td>A</td>\n",
       "      <td>BCHCAPT CI</td>\n",
       "      <td>2.020235e+09</td>\n",
       "      <td>0.0</td>\n",
       "      <td>0.000000e+00</td>\n",
       "      <td>2015-01-01</td>\n",
       "    </tr>\n",
       "    <tr>\n",
       "      <th>1</th>\n",
       "      <td>8001-2</td>\n",
       "      <td>CAPITALISA-ACC</td>\n",
       "      <td>B</td>\n",
       "      <td>BCHCACB CI</td>\n",
       "      <td>5.290941e+07</td>\n",
       "      <td>0.0</td>\n",
       "      <td>0.000000e+00</td>\n",
       "      <td>2015-01-01</td>\n",
       "    </tr>\n",
       "    <tr>\n",
       "      <th>2</th>\n",
       "      <td>8001-2</td>\n",
       "      <td>CAPITALISA-ACC</td>\n",
       "      <td>C</td>\n",
       "      <td>BCHCACC CI</td>\n",
       "      <td>1.822809e+08</td>\n",
       "      <td>0.0</td>\n",
       "      <td>0.000000e+00</td>\n",
       "      <td>2015-01-01</td>\n",
       "    </tr>\n",
       "    <tr>\n",
       "      <th>3</th>\n",
       "      <td>8001-2</td>\n",
       "      <td>CAPITALISA-ACC</td>\n",
       "      <td>S</td>\n",
       "      <td>BCHCACS CI</td>\n",
       "      <td>0.000000e+00</td>\n",
       "      <td>0.0</td>\n",
       "      <td>0.000000e+00</td>\n",
       "      <td>2015-01-01</td>\n",
       "    </tr>\n",
       "    <tr>\n",
       "      <th>4</th>\n",
       "      <td>8023-3</td>\n",
       "      <td>HORIZONTE</td>\n",
       "      <td>A</td>\n",
       "      <td>BCHEMPR CI</td>\n",
       "      <td>5.139307e+10</td>\n",
       "      <td>0.0</td>\n",
       "      <td>2.659230e+07</td>\n",
       "      <td>2015-01-01</td>\n",
       "    </tr>\n",
       "  </tbody>\n",
       "</table>\n",
       "</div>"
      ],
      "text/plain": [
       "  fundRUN        fundName fundSeries bloombergCode  netPatrimony  \\\n",
       "0  8001-2  CAPITALISA-ACC          A    BCHCAPT CI  2.020235e+09   \n",
       "1  8001-2  CAPITALISA-ACC          B    BCHCACB CI  5.290941e+07   \n",
       "2  8001-2  CAPITALISA-ACC          C    BCHCACC CI  1.822809e+08   \n",
       "3  8001-2  CAPITALISA-ACC          S    BCHCACS CI  0.000000e+00   \n",
       "4  8023-3       HORIZONTE          A    BCHEMPR CI  5.139307e+10   \n",
       "\n",
       "   providedFlow   rescuedFlow      fecha  \n",
       "0           0.0  0.000000e+00 2015-01-01  \n",
       "1           0.0  0.000000e+00 2015-01-01  \n",
       "2           0.0  0.000000e+00 2015-01-01  \n",
       "3           0.0  0.000000e+00 2015-01-01  \n",
       "4           0.0  2.659230e+07 2015-01-01  "
      ]
     },
     "execution_count": 19,
     "metadata": {},
     "output_type": "execute_result"
    }
   ],
   "source": [
    "fund_flows.head()"
   ]
  },
  {
   "cell_type": "code",
   "execution_count": 20,
   "metadata": {},
   "outputs": [],
   "source": [
    "fund_flows.to_parquet('../data/fund_flows.parq', compression='gzip')"
   ]
  },
  {
   "cell_type": "code",
   "execution_count": null,
   "metadata": {},
   "outputs": [],
   "source": []
  }
 ],
 "metadata": {
  "kernelspec": {
   "display_name": "Python 3",
   "language": "python",
   "name": "python3"
  },
  "language_info": {
   "codemirror_mode": {
    "name": "ipython",
    "version": 3
   },
   "file_extension": ".py",
   "mimetype": "text/x-python",
   "name": "python",
   "nbconvert_exporter": "python",
   "pygments_lexer": "ipython3",
   "version": "3.8.6"
  }
 },
 "nbformat": 4,
 "nbformat_minor": 5
}
