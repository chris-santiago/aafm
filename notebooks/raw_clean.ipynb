{
 "cells": [
  {
   "cell_type": "markdown",
   "id": "capable-oriental",
   "metadata": {},
   "source": [
    "# Exploring the cleaned dataset"
   ]
  },
  {
   "cell_type": "code",
   "execution_count": 18,
   "id": "located-extra",
   "metadata": {},
   "outputs": [],
   "source": [
    "import pandas as pd"
   ]
  },
  {
   "cell_type": "code",
   "execution_count": 62,
   "id": "continuing-prescription",
   "metadata": {},
   "outputs": [
    {
     "name": "stdout",
     "output_type": "stream",
     "text": [
      "(4795, 81)\n"
     ]
    }
   ],
   "source": [
    "data = pd.read_csv('../data/FundDatawithMonthlyPrices_v2_raw.csv')\n",
    "print(data.shape)"
   ]
  },
  {
   "cell_type": "raw",
   "id": "capable-spell",
   "metadata": {},
   "source": [
    "na_limit = int(.3 * 73)\n",
    "mask = (data.isna().sum(1) < na_limit) & (data.iloc[:, -24:].notnull().sum(1) == 24)\n",
    "data = data[mask]\n",
    "data.shape"
   ]
  },
  {
   "cell_type": "code",
   "execution_count": 63,
   "id": "gorgeous-credit",
   "metadata": {},
   "outputs": [
    {
     "data": {
      "text/plain": [
       "(1833, 81)"
      ]
     },
     "execution_count": 63,
     "metadata": {},
     "output_type": "execute_result"
    }
   ],
   "source": [
    "min_history = 36\n",
    "mask = (data.iloc[:, -min_history:].notnull().sum(1) == min_history) & ((data.iloc[:, 8:].apply(lambda x: x.nunique(), axis=1) != 1))\n",
    "data = data[mask]\n",
    "data.shape"
   ]
  },
  {
   "cell_type": "markdown",
   "id": "colonial-wholesale",
   "metadata": {},
   "source": [
    "## Unique Funds\n",
    "\n",
    "The dataset has 1,058 observations with complete price history; however, most of these observations are of different series of the same fund.  \n",
    "\n",
    "For the most part, the individual series of the same fund behave in the same manner.  That is, each series holds the same underlying securities (stocks/bonds/etc), but they differ with respect to fees, lockups, eligible accounts, minimum investment requirements, and other characteristics that don't affect fund returns and risk.\n",
    "\n",
    "While the fund-series hierarchy is valuable for visualization and informing investments, the hierarchy is redundant for ML algorithms. In this regard, we're only interested in the **unique** fund observations (i.e. a single series for each fund).\n",
    "\n",
    "Number of unique fund names within this dataset:"
   ]
  },
  {
   "cell_type": "code",
   "execution_count": 65,
   "id": "guilty-transition",
   "metadata": {},
   "outputs": [
    {
     "data": {
      "text/plain": [
       "311"
      ]
     },
     "execution_count": 65,
     "metadata": {},
     "output_type": "execute_result"
    }
   ],
   "source": [
    "len(data['fundName'].unique())"
   ]
  },
  {
   "cell_type": "markdown",
   "id": "geological-armor",
   "metadata": {},
   "source": [
    "### Unique funds by AAFM Category\n",
    "\n",
    "Here's a count of **unique** funds within each `aafmCategory`.  We don't have enough within-group observations to run anomaly detection algorithms for this grouping."
   ]
  },
  {
   "cell_type": "code",
   "execution_count": 56,
   "id": "stable-harvest",
   "metadata": {},
   "outputs": [
    {
     "data": {
      "text/plain": [
       "aafmCategory\n",
       "Accionario America Latina                                             11\n",
       "Accionario Asia Emergente                                              8\n",
       "Accionario Asia Pacifico                                               1\n",
       "Accionario Brasil                                                      4\n",
       "Accionario Desarrollado                                               12\n",
       "Accionario EEUU                                                       12\n",
       "Accionario Emergente                                                   8\n",
       "Accionario Europa Desarrollado                                         8\n",
       "Accionario Europa Emergente                                            1\n",
       "Accionario Nacional Large CAP                                         23\n",
       "Accionario Nacional Otros                                              5\n",
       "Accionario Pais                                                        7\n",
       "Accionario Países MILA                                                 3\n",
       "Accionario Sectorial                                                   2\n",
       "Balanceado Agresivo                                                   22\n",
       "Balanceado Conservador                                                21\n",
       "Balanceado Moderado                                                   22\n",
       "Fondos de Deuda < 365 Dias Internacional                               1\n",
       "Fondos de Deuda < 365 Dias Nacional en UF                              6\n",
       "Fondos de Deuda < 365 Dias Nacional en pesos                          12\n",
       "Fondos de Deuda < 90 Dias Internacional, Dolar                         9\n",
       "Fondos de Deuda < 90 Dias Nacional                                    33\n",
       "Fondos de Deuda > 365 Dias Internacional, Mercados Emergentes         13\n",
       "Fondos de Deuda > 365 Dias Internacional, Mercados Internacionales     5\n",
       "Fondos de Deuda > 365 Dias Nacional, Inversion UF > 3 años y =<5      14\n",
       "Fondos de Deuda > 365 Dias Nacional, Inversion en UF > 5 años          7\n",
       "Fondos de Deuda > 365 Dias Nacional, Inversión en Pesos               13\n",
       "Fondos de Deuda > 365 Dias Nacional, Inversión en UF < 3 años         10\n",
       "Fondos de Deuda > 365 Dias Orig. Flex                                 13\n",
       "Inversionistas Calificados Accionario Nacional                         4\n",
       "Inversionistas Calificados Títulos de Deuda                            1\n",
       "Name: fundRUN, dtype: int64"
      ]
     },
     "execution_count": 56,
     "metadata": {},
     "output_type": "execute_result"
    }
   ],
   "source": [
    "data.groupby('fundName').first().groupby('aafmCategory').count().iloc[:, 0]"
   ]
  },
  {
   "cell_type": "markdown",
   "id": "rocky-cooperation",
   "metadata": {},
   "source": [
    "### Unique Funds by SVS Category\n",
    "\n",
    "Here's a count of **unique** funds within each `svsCategory`.  We *might* have enough within-group observations for about half of these groupings:"
   ]
  },
  {
   "cell_type": "code",
   "execution_count": 57,
   "id": "seven-springfield",
   "metadata": {},
   "outputs": [
    {
     "data": {
      "text/plain": [
       "svsCategory\n",
       "FM DE INV.EN INST.DE DEUDA DE C/P CON DURACION <= 365 DIAS     19\n",
       "FM DE INV.EN INST.DE DEUDA DE C/P CON DURACION <= 90 DIAS      42\n",
       "FM DE INV.EN INST.DE DEUDA DE MEDIANO Y LARGO PLAZO            50\n",
       "FM DE INVERSION EN INSTRUMENTOS DE CAPITALIZACION              70\n",
       "FM DE LIBRE INVERSION                                         100\n",
       "FM DIRIGIDO A INVERSIONISTAS CALIFICADOS                        5\n",
       "FM MIXTO                                                       25\n",
       "Name: fundRUN, dtype: int64"
      ]
     },
     "execution_count": 57,
     "metadata": {},
     "output_type": "execute_result"
    }
   ],
   "source": [
    "data.groupby('fundName').first().groupby('svsCategory').count().iloc[:, 0]"
   ]
  },
  {
   "cell_type": "markdown",
   "id": "musical-yorkshire",
   "metadata": {},
   "source": [
    "## Fund Series Price Variance\n",
    "\n",
    "Here's a concern that we need to address:  This cell shows a glimpse of the various series of the `A. CHILE CALIFICADO` fund. It's odd that the prices for **fundSeries A, B, and C** are constant across time.  While we might expect each series to have different price levels, we don't expect price series of the same funds to show no variation across time."
   ]
  },
  {
   "cell_type": "code",
   "execution_count": 64,
   "id": "literary-philippines",
   "metadata": {},
   "outputs": [
    {
     "data": {
      "text/html": [
       "<div>\n",
       "<style scoped>\n",
       "    .dataframe tbody tr th:only-of-type {\n",
       "        vertical-align: middle;\n",
       "    }\n",
       "\n",
       "    .dataframe tbody tr th {\n",
       "        vertical-align: top;\n",
       "    }\n",
       "\n",
       "    .dataframe thead th {\n",
       "        text-align: right;\n",
       "    }\n",
       "</style>\n",
       "<table border=\"1\" class=\"dataframe\">\n",
       "  <thead>\n",
       "    <tr style=\"text-align: right;\">\n",
       "      <th></th>\n",
       "      <th>fundRUN</th>\n",
       "      <th>fundName</th>\n",
       "      <th>fundSeries</th>\n",
       "      <th>aafmCategory</th>\n",
       "      <th>svsCategory</th>\n",
       "      <th>svsCategoryId</th>\n",
       "      <th>currency</th>\n",
       "      <th>fundRUNSeries</th>\n",
       "      <th>1/31/15</th>\n",
       "      <th>2/28/15</th>\n",
       "      <th>...</th>\n",
       "      <th>4/30/20</th>\n",
       "      <th>5/31/20</th>\n",
       "      <th>6/30/20</th>\n",
       "      <th>7/31/20</th>\n",
       "      <th>8/31/20</th>\n",
       "      <th>9/30/20</th>\n",
       "      <th>10/31/20</th>\n",
       "      <th>11/30/20</th>\n",
       "      <th>12/31/20</th>\n",
       "      <th>1/31/21</th>\n",
       "    </tr>\n",
       "  </thead>\n",
       "  <tbody>\n",
       "    <tr>\n",
       "      <th>1</th>\n",
       "      <td>8812-9</td>\n",
       "      <td>A. CHILE CALIFICADO</td>\n",
       "      <td>AC</td>\n",
       "      <td>Inversionistas Calificados Accionario Nacional</td>\n",
       "      <td>FM DIRIGIDO A INVERSIONISTAS CALIFICADOS</td>\n",
       "      <td>8.0</td>\n",
       "      <td>P</td>\n",
       "      <td>8812-9AC</td>\n",
       "      <td>NaN</td>\n",
       "      <td>NaN</td>\n",
       "      <td>...</td>\n",
       "      <td>830.3527</td>\n",
       "      <td>767.4051</td>\n",
       "      <td>820.6198</td>\n",
       "      <td>836.8227</td>\n",
       "      <td>794.7268</td>\n",
       "      <td>758.6292</td>\n",
       "      <td>730.2904</td>\n",
       "      <td>831.3485</td>\n",
       "      <td>863.5786</td>\n",
       "      <td>867.1403</td>\n",
       "    </tr>\n",
       "    <tr>\n",
       "      <th>2</th>\n",
       "      <td>8812-9</td>\n",
       "      <td>A. CHILE CALIFICADO</td>\n",
       "      <td>AC-APV</td>\n",
       "      <td>Inversionistas Calificados Accionario Nacional</td>\n",
       "      <td>FM DIRIGIDO A INVERSIONISTAS CALIFICADOS</td>\n",
       "      <td>8.0</td>\n",
       "      <td>P</td>\n",
       "      <td>8812-9AC-APV</td>\n",
       "      <td>NaN</td>\n",
       "      <td>NaN</td>\n",
       "      <td>...</td>\n",
       "      <td>1039.3819</td>\n",
       "      <td>1039.3819</td>\n",
       "      <td>1039.3819</td>\n",
       "      <td>1039.3819</td>\n",
       "      <td>1039.3819</td>\n",
       "      <td>1039.3819</td>\n",
       "      <td>1039.3819</td>\n",
       "      <td>1039.3819</td>\n",
       "      <td>1039.3819</td>\n",
       "      <td>1039.3819</td>\n",
       "    </tr>\n",
       "    <tr>\n",
       "      <th>5</th>\n",
       "      <td>8812-9</td>\n",
       "      <td>A. CHILE CALIFICADO</td>\n",
       "      <td>D</td>\n",
       "      <td>Inversionistas Calificados Accionario Nacional</td>\n",
       "      <td>FM DIRIGIDO A INVERSIONISTAS CALIFICADOS</td>\n",
       "      <td>8.0</td>\n",
       "      <td>P</td>\n",
       "      <td>8812-9D</td>\n",
       "      <td>767.0540</td>\n",
       "      <td>788.5753</td>\n",
       "      <td>...</td>\n",
       "      <td>706.7567</td>\n",
       "      <td>665.9628</td>\n",
       "      <td>712.7872</td>\n",
       "      <td>727.2119</td>\n",
       "      <td>690.8105</td>\n",
       "      <td>659.9857</td>\n",
       "      <td>636.7984</td>\n",
       "      <td>728.8420</td>\n",
       "      <td>764.2218</td>\n",
       "      <td>769.6162</td>\n",
       "    </tr>\n",
       "    <tr>\n",
       "      <th>6</th>\n",
       "      <td>8812-9</td>\n",
       "      <td>A. CHILE CALIFICADO</td>\n",
       "      <td>E</td>\n",
       "      <td>Inversionistas Calificados Accionario Nacional</td>\n",
       "      <td>FM DIRIGIDO A INVERSIONISTAS CALIFICADOS</td>\n",
       "      <td>8.0</td>\n",
       "      <td>P</td>\n",
       "      <td>8812-9E</td>\n",
       "      <td>746.0934</td>\n",
       "      <td>766.5560</td>\n",
       "      <td>...</td>\n",
       "      <td>552.8584</td>\n",
       "      <td>510.9303</td>\n",
       "      <td>546.2861</td>\n",
       "      <td>557.0110</td>\n",
       "      <td>528.8156</td>\n",
       "      <td>504.7108</td>\n",
       "      <td>485.7939</td>\n",
       "      <td>552.8705</td>\n",
       "      <td>574.1806</td>\n",
       "      <td>576.4414</td>\n",
       "    </tr>\n",
       "    <tr>\n",
       "      <th>7</th>\n",
       "      <td>8812-9</td>\n",
       "      <td>A. CHILE CALIFICADO</td>\n",
       "      <td>F</td>\n",
       "      <td>Inversionistas Calificados Accionario Nacional</td>\n",
       "      <td>FM DIRIGIDO A INVERSIONISTAS CALIFICADOS</td>\n",
       "      <td>8.0</td>\n",
       "      <td>P</td>\n",
       "      <td>8812-9F</td>\n",
       "      <td>726.3573</td>\n",
       "      <td>746.5076</td>\n",
       "      <td>...</td>\n",
       "      <td>550.4048</td>\n",
       "      <td>508.8351</td>\n",
       "      <td>544.2244</td>\n",
       "      <td>555.0967</td>\n",
       "      <td>527.1768</td>\n",
       "      <td>503.3117</td>\n",
       "      <td>484.6114</td>\n",
       "      <td>551.7055</td>\n",
       "      <td>573.1648</td>\n",
       "      <td>575.6172</td>\n",
       "    </tr>\n",
       "    <tr>\n",
       "      <th>9</th>\n",
       "      <td>8812-9</td>\n",
       "      <td>A. CHILE CALIFICADO</td>\n",
       "      <td>H</td>\n",
       "      <td>Inversionistas Calificados Accionario Nacional</td>\n",
       "      <td>FM DIRIGIDO A INVERSIONISTAS CALIFICADOS</td>\n",
       "      <td>8.0</td>\n",
       "      <td>P</td>\n",
       "      <td>8812-9H</td>\n",
       "      <td>907.8406</td>\n",
       "      <td>907.8406</td>\n",
       "      <td>...</td>\n",
       "      <td>692.4311</td>\n",
       "      <td>652.5746</td>\n",
       "      <td>698.5723</td>\n",
       "      <td>712.8311</td>\n",
       "      <td>677.2601</td>\n",
       "      <td>647.1431</td>\n",
       "      <td>624.5137</td>\n",
       "      <td>714.8987</td>\n",
       "      <td>749.7286</td>\n",
       "      <td>755.1522</td>\n",
       "    </tr>\n",
       "    <tr>\n",
       "      <th>10</th>\n",
       "      <td>8812-9</td>\n",
       "      <td>A. CHILE CALIFICADO</td>\n",
       "      <td>I</td>\n",
       "      <td>Inversionistas Calificados Accionario Nacional</td>\n",
       "      <td>FM DIRIGIDO A INVERSIONISTAS CALIFICADOS</td>\n",
       "      <td>8.0</td>\n",
       "      <td>P</td>\n",
       "      <td>8812-9I</td>\n",
       "      <td>NaN</td>\n",
       "      <td>NaN</td>\n",
       "      <td>...</td>\n",
       "      <td>895.7571</td>\n",
       "      <td>829.4639</td>\n",
       "      <td>888.5729</td>\n",
       "      <td>907.9628</td>\n",
       "      <td>864.0124</td>\n",
       "      <td>826.5253</td>\n",
       "      <td>797.2053</td>\n",
       "      <td>909.1026</td>\n",
       "      <td>946.5874</td>\n",
       "      <td>952.4474</td>\n",
       "    </tr>\n",
       "  </tbody>\n",
       "</table>\n",
       "<p>7 rows × 81 columns</p>\n",
       "</div>"
      ],
      "text/plain": [
       "   fundRUN             fundName fundSeries  \\\n",
       "1   8812-9  A. CHILE CALIFICADO         AC   \n",
       "2   8812-9  A. CHILE CALIFICADO     AC-APV   \n",
       "5   8812-9  A. CHILE CALIFICADO          D   \n",
       "6   8812-9  A. CHILE CALIFICADO          E   \n",
       "7   8812-9  A. CHILE CALIFICADO          F   \n",
       "9   8812-9  A. CHILE CALIFICADO          H   \n",
       "10  8812-9  A. CHILE CALIFICADO          I   \n",
       "\n",
       "                                      aafmCategory  \\\n",
       "1   Inversionistas Calificados Accionario Nacional   \n",
       "2   Inversionistas Calificados Accionario Nacional   \n",
       "5   Inversionistas Calificados Accionario Nacional   \n",
       "6   Inversionistas Calificados Accionario Nacional   \n",
       "7   Inversionistas Calificados Accionario Nacional   \n",
       "9   Inversionistas Calificados Accionario Nacional   \n",
       "10  Inversionistas Calificados Accionario Nacional   \n",
       "\n",
       "                                 svsCategory  svsCategoryId currency  \\\n",
       "1   FM DIRIGIDO A INVERSIONISTAS CALIFICADOS            8.0        P   \n",
       "2   FM DIRIGIDO A INVERSIONISTAS CALIFICADOS            8.0        P   \n",
       "5   FM DIRIGIDO A INVERSIONISTAS CALIFICADOS            8.0        P   \n",
       "6   FM DIRIGIDO A INVERSIONISTAS CALIFICADOS            8.0        P   \n",
       "7   FM DIRIGIDO A INVERSIONISTAS CALIFICADOS            8.0        P   \n",
       "9   FM DIRIGIDO A INVERSIONISTAS CALIFICADOS            8.0        P   \n",
       "10  FM DIRIGIDO A INVERSIONISTAS CALIFICADOS            8.0        P   \n",
       "\n",
       "   fundRUNSeries   1/31/15   2/28/15  ...    4/30/20    5/31/20    6/30/20  \\\n",
       "1       8812-9AC       NaN       NaN  ...   830.3527   767.4051   820.6198   \n",
       "2   8812-9AC-APV       NaN       NaN  ...  1039.3819  1039.3819  1039.3819   \n",
       "5        8812-9D  767.0540  788.5753  ...   706.7567   665.9628   712.7872   \n",
       "6        8812-9E  746.0934  766.5560  ...   552.8584   510.9303   546.2861   \n",
       "7        8812-9F  726.3573  746.5076  ...   550.4048   508.8351   544.2244   \n",
       "9        8812-9H  907.8406  907.8406  ...   692.4311   652.5746   698.5723   \n",
       "10       8812-9I       NaN       NaN  ...   895.7571   829.4639   888.5729   \n",
       "\n",
       "      7/31/20    8/31/20    9/30/20   10/31/20   11/30/20   12/31/20  \\\n",
       "1    836.8227   794.7268   758.6292   730.2904   831.3485   863.5786   \n",
       "2   1039.3819  1039.3819  1039.3819  1039.3819  1039.3819  1039.3819   \n",
       "5    727.2119   690.8105   659.9857   636.7984   728.8420   764.2218   \n",
       "6    557.0110   528.8156   504.7108   485.7939   552.8705   574.1806   \n",
       "7    555.0967   527.1768   503.3117   484.6114   551.7055   573.1648   \n",
       "9    712.8311   677.2601   647.1431   624.5137   714.8987   749.7286   \n",
       "10   907.9628   864.0124   826.5253   797.2053   909.1026   946.5874   \n",
       "\n",
       "      1/31/21  \n",
       "1    867.1403  \n",
       "2   1039.3819  \n",
       "5    769.6162  \n",
       "6    576.4414  \n",
       "7    575.6172  \n",
       "9    755.1522  \n",
       "10   952.4474  \n",
       "\n",
       "[7 rows x 81 columns]"
      ]
     },
     "execution_count": 64,
     "metadata": {},
     "output_type": "execute_result"
    }
   ],
   "source": [
    "data.head(7)"
   ]
  },
  {
   "cell_type": "markdown",
   "id": "careful-factor",
   "metadata": {},
   "source": [
    "There are 354 observations where the price remains constant across the entire time period:"
   ]
  },
  {
   "cell_type": "code",
   "execution_count": 8,
   "id": "excited-hurricane",
   "metadata": {},
   "outputs": [
    {
     "data": {
      "text/plain": [
       "354"
      ]
     },
     "execution_count": 8,
     "metadata": {},
     "output_type": "execute_result"
    }
   ],
   "source": [
    "(data.iloc[:, 8:].apply(lambda x: x.nunique(), axis=1) == 1).sum()"
   ]
  },
  {
   "cell_type": "markdown",
   "id": "pacific-community",
   "metadata": {},
   "source": [
    "### What does this mean?\n",
    "\n",
    "We should investigate the cause of these 354 observations. Was the data unavailable (and 1000 a default or placeholder)? Are the specific `fundSeries` inactive? Do these observations actually belong to a different `fundName`?  Money market mutual funds, for example, are **designed to maintain stable prices**, so it wouldn't be surprising for such funds to exhibit no variance across time; is that the case, here?\n",
    "\n",
    "This all matters because we need to choose a representative `fundSeries` for each `fundName` to run through ML algorithms."
   ]
  },
  {
   "cell_type": "markdown",
   "id": "modern-present",
   "metadata": {},
   "source": [
    "## Conclusions / Next Steps\n",
    "\n",
    "We may need to expand our dataset from the *clean* observations (those with full price data across the time period) to the *raw* dataset, and interpolate missing values / remove threshold observations.\n",
    "\n",
    "- We need to decide which `fundSeries` will represent the unique mutual fund price data\n",
    "- We need to decide which **category** to group observations by (for anomaly detection): `aafmCategory` or `svsCategory`"
   ]
  },
  {
   "cell_type": "code",
   "execution_count": 20,
   "id": "tired-combine",
   "metadata": {},
   "outputs": [
    {
     "data": {
      "text/plain": [
       "(1604, 81)"
      ]
     },
     "execution_count": 20,
     "metadata": {},
     "output_type": "execute_result"
    }
   ],
   "source": [
    "na_limit = int(.2 * 72)\n",
    "mask = data.isna().sum(1) < na_limit\n",
    "data[mask].shape"
   ]
  },
  {
   "cell_type": "code",
   "execution_count": null,
   "id": "bronze-magnet",
   "metadata": {},
   "outputs": [],
   "source": []
  }
 ],
 "metadata": {
  "kernelspec": {
   "display_name": "Python 3",
   "language": "python",
   "name": "python3"
  },
  "language_info": {
   "codemirror_mode": {
    "name": "ipython",
    "version": 3
   },
   "file_extension": ".py",
   "mimetype": "text/x-python",
   "name": "python",
   "nbconvert_exporter": "python",
   "pygments_lexer": "ipython3",
   "version": "3.8.8"
  }
 },
 "nbformat": 4,
 "nbformat_minor": 5
}
